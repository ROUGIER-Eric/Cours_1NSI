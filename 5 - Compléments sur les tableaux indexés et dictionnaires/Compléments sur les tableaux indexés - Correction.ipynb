{
 "cells": [
  {
   "cell_type": "markdown",
   "metadata": {},
   "source": [
    "<center><h1>Compléments sur les tableaux indexés et dictionnaires</h1><h3>Correction</h3></center>"
   ]
  },
  {
   "cell_type": "markdown",
   "metadata": {},
   "source": [
    "## A -  Fabriquer des listes par compréhension\n",
    "**Exercice 1**"
   ]
  },
  {
   "cell_type": "code",
   "execution_count": 2,
   "metadata": {},
   "outputs": [
    {
     "data": {
      "text/plain": [
       "['a', 'a', 'a', 'a', 'a', 'a', 'a', 'a', 'a', 'a', 'a', 'a', 'a', 'a', 'a']"
      ]
     },
     "execution_count": 2,
     "metadata": {},
     "output_type": "execute_result"
    }
   ],
   "source": [
    "# Question 1\n",
    "['a' for i in range(15)]"
   ]
  },
  {
   "cell_type": "code",
   "execution_count": 3,
   "metadata": {},
   "outputs": [
    {
     "data": {
      "text/plain": [
       "['P', 'y', 't', 'h', 'o', 'n']"
      ]
     },
     "execution_count": 3,
     "metadata": {},
     "output_type": "execute_result"
    }
   ],
   "source": [
    "# Question 2\n",
    "[caractere for caractere in 'Python']"
   ]
  },
  {
   "cell_type": "markdown",
   "metadata": {},
   "source": [
    "Question 3  \n",
    "Le code suivant génère, par compréhension, une liste contenant les caractères ASCII correspondant aux codes allant de 65 à 123 à l'exception de ceux correspondant aux code alant de 91 à 97\n",
    "\n",
    "`[chr(i) for i in range(65,123) if i not in [k for k in range(91, 97)]]`"
   ]
  },
  {
   "cell_type": "markdown",
   "metadata": {},
   "source": [
    "## B -  Carré magique"
   ]
  },
  {
   "cell_type": "code",
   "execution_count": 10,
   "metadata": {},
   "outputs": [
    {
     "data": {
      "text/plain": [
       "6"
      ]
     },
     "execution_count": 10,
     "metadata": {},
     "output_type": "execute_result"
    }
   ],
   "source": [
    "carre = [[1, 2, 3], [4, 5, 6], [7, 8, 9]]\n",
    "# Pour accéder l’élément de la ligne 2, colonne 3\n",
    "carre[1][2]"
   ]
  },
  {
   "cell_type": "markdown",
   "metadata": {},
   "source": [
    "**Exercice 2**"
   ]
  },
  {
   "cell_type": "code",
   "execution_count": 10,
   "metadata": {},
   "outputs": [
    {
     "name": "stdout",
     "output_type": "stream",
     "text": [
      "Exercice 1 : Question 1\n",
      "Somme de la ligne 1 : 6\n",
      "Somme de la ligne 2 : 15\n",
      "Somme de la ligne 3 : 24\n"
     ]
    }
   ],
   "source": [
    "# Question 1\n",
    "def somme_ligne(carre : list, index_ligne : int)-> int:\n",
    "    \"\"\"\n",
    "    Cette fonction calcule la somme des valeurs de la ligne\n",
    "    index_ligne+1 et retourne cette valeur.\n",
    "    Pour le carré : carre = [[1, 2, 3], [4, 5, 6], [7, 8, 9]]\n",
    "    elle retoune 6 pour la ligne 1, 15 pour la ligne 2 \n",
    "    et 24 pour la ligne 3.\n",
    "    \"\"\"\n",
    "    somme = 0\n",
    "    for element in carre[index_ligne]:\n",
    "        somme = somme + element\n",
    "    return somme\n",
    "\n",
    "# Un carré - pas magique -\n",
    "carre1 = [[1, 2, 3], [4, 5, 6], [7, 8, 9]]\n",
    "\n",
    "# Somme des ligne du carré carre\n",
    "print(\"Exercice 1 : Question 1\")\n",
    "for i in range(len(carre1)):\n",
    "    print(f\"Somme de la ligne {i+1} : {somme_ligne(carre1, i)}\")"
   ]
  },
  {
   "cell_type": "code",
   "execution_count": 12,
   "metadata": {},
   "outputs": [
    {
     "name": "stdout",
     "output_type": "stream",
     "text": [
      "OK\n"
     ]
    }
   ],
   "source": [
    "# Pour tester\n",
    "carre1 = [[1, 2, 3], [4, 5, 6], [7, 8, 9]]\n",
    "assert somme_ligne(carre1, 0) == 6\n",
    "assert somme_ligne(carre1, 1) == 15\n",
    "assert somme_ligne(carre1, 2) == 24\n",
    "print(\"OK\")"
   ]
  },
  {
   "cell_type": "code",
   "execution_count": 13,
   "metadata": {},
   "outputs": [
    {
     "name": "stdout",
     "output_type": "stream",
     "text": [
      "Somme de la colonne 1 : 12\n",
      "Somme de la colonne 2 : 15\n",
      "Somme de la colonne 3 : 18\n"
     ]
    }
   ],
   "source": [
    "# Question 2\n",
    "def somme_colonne(carre : list, n_colonne : int)-> int:\n",
    "    somme = 0\n",
    "    for ligne in carre:\n",
    "        somme = somme + ligne[n_colonne]\n",
    "    return somme\n",
    "\n",
    "for i in range(len(carre1)):\n",
    "    print(f\"Somme de la colonne {i+1} : {somme_colonne(carre1, i)}\")"
   ]
  },
  {
   "cell_type": "code",
   "execution_count": 15,
   "metadata": {},
   "outputs": [
    {
     "name": "stdout",
     "output_type": "stream",
     "text": [
      "Somme de la colonne 1 : 12\n",
      "Somme de la colonne 2 : 15\n",
      "Somme de la colonne 3 : 18\n"
     ]
    }
   ],
   "source": [
    "# Question 2 - Deuxième solution\n",
    "def somme_colonne(carre : list, n_colonne : int)-> int:\n",
    "    somme = 0\n",
    "    for n_ligne in range(len(carre)):\n",
    "        somme = somme + carre[n_ligne][n_colonne]\n",
    "    return somme\n",
    "\n",
    "for i in range(len(carre1)):\n",
    "    print(f\"Somme de la colonne {i+1} : {somme_colonne(carre1, i)}\")"
   ]
  },
  {
   "cell_type": "code",
   "execution_count": 16,
   "metadata": {},
   "outputs": [
    {
     "name": "stdout",
     "output_type": "stream",
     "text": [
      "OK\n"
     ]
    }
   ],
   "source": [
    "# Pour tester\n",
    "carre1 = [[1, 2, 3], [4, 5, 6], [7, 8, 9]]\n",
    "assert somme_colonne(carre1, 0) == 12\n",
    "assert somme_colonne(carre1, 1) == 15\n",
    "assert somme_colonne(carre1, 2) == 18\n",
    "print(\"OK\")"
   ]
  },
  {
   "cell_type": "code",
   "execution_count": 19,
   "metadata": {},
   "outputs": [
    {
     "name": "stdout",
     "output_type": "stream",
     "text": [
      "Somme de la diagonale 1 : 15\n",
      "Somme de la diagonale 2 : 15\n"
     ]
    }
   ],
   "source": [
    "# Question 2\n",
    "def somme_diagonale1(carre : list)-> int:\n",
    "    somme = 0\n",
    "    for i in range(len(carre)):\n",
    "        somme = somme + carre[i][i]\n",
    "    return somme\n",
    "\n",
    "def somme_diagonale2(carre : list)-> int:\n",
    "    somme = 0\n",
    "    for i in range(len(carre)):\n",
    "        somme = somme + carre[i][len(carre) - i - 1]\n",
    "    return somme\n",
    "\n",
    "print(f\"Somme de la diagonale 1 : {somme_diagonale1(carre1)}\")\n",
    "print(f\"Somme de la diagonale 2 : {somme_diagonale2(carre1)}\")"
   ]
  },
  {
   "cell_type": "code",
   "execution_count": 20,
   "metadata": {},
   "outputs": [
    {
     "name": "stdout",
     "output_type": "stream",
     "text": [
      "OK\n"
     ]
    }
   ],
   "source": [
    "# Pour tester\n",
    "carre1 = [[1, 2, 3], [4, 5, 6], [7, 8, 9]]\n",
    "assert somme_diagonale1(carre1) == 15\n",
    "assert somme_diagonale2(carre1) == 15\n",
    "print(\"OK\")"
   ]
  },
  {
   "cell_type": "code",
   "execution_count": 25,
   "metadata": {},
   "outputs": [
    {
     "name": "stdout",
     "output_type": "stream",
     "text": [
      "Valeur du carré 1 :  -1\n",
      "Valeur du carré 2 :  15\n",
      "Valeur du carré 3 :  65\n"
     ]
    }
   ],
   "source": [
    "# Question 3\n",
    "def nombre_magique(carre : list)-> int:\n",
    "    \"\"\"\n",
    "    Cette fonction vérifie si le carré carre est un carré\n",
    "    magique, il retourne le nombre magique si c'est le cas\n",
    "    et -1 sinon\n",
    "    \"\"\"\n",
    "    # Cette liste contiendra les valeurs de chacune des sommes\n",
    "    valeurs = []\n",
    "    # On remplit cette liste\n",
    "    for i in range(len(carre)):\n",
    "        valeurs.append(somme_ligne(carre, i))\n",
    "        valeurs.append(somme_colonne(carre, i))\n",
    "    valeurs.append(somme_diagonale1(carre))\n",
    "    valeurs.append(somme_diagonale2(carre))\n",
    "    # On prend la première valeur de la liste\n",
    "    valeur = valeurs[0]\n",
    "    for e in range(1, len(valeurs)):\n",
    "        # On vérifie chacune des valeurs de la liste avec la première\n",
    "        if valeurs[e] != valeur:\n",
    "            # Il y a une différence\n",
    "            return -1\n",
    "    return valeur\n",
    "\n",
    "carre1 = [[1, 2, 3], [4, 5, 6], [7, 8, 9]]\n",
    "carre2 = [[2, 7, 6], [9, 5, 1], [4, 3, 8]]\n",
    "carre3 = [[11, 24, 7, 20, 3], [4, 12, 25, 8, 16], [17, 5, 13, 21, 9], [10, 18, 1, 14, 22], [23, 6, 19, 2, 15]]\n",
    "\n",
    "print(\"Valeur du carré 1 : \", nombre_magique(carre1))\n",
    "print(\"Valeur du carré 2 : \", nombre_magique(carre2))\n",
    "print(\"Valeur du carré 3 : \", nombre_magique(carre3))"
   ]
  },
  {
   "cell_type": "code",
   "execution_count": 22,
   "metadata": {},
   "outputs": [
    {
     "name": "stdout",
     "output_type": "stream",
     "text": [
      "OK\n"
     ]
    }
   ],
   "source": [
    "# Pour tester\n",
    "carre1 = [[1, 2, 3], [4, 5, 6], [7, 8, 9]]\n",
    "carre2 = [[2, 7, 6], [9, 5, 1], [4, 3, 8]]\n",
    "carre3 = [[11, 24, 7, 20, 3], [4, 12, 25, 8, 16], [17, 5, 13, 21, 9], [10, 18, 1, 14, 22], [23, 6, 19, 2, 15]]\n",
    "assert nombre_magique(carre1) == -1\n",
    "assert nombre_magique(carre2) == 15\n",
    "assert nombre_magique(carre3) == 65\n",
    "print(\"OK\")"
   ]
  },
  {
   "cell_type": "code",
   "execution_count": 24,
   "metadata": {},
   "outputs": [
    {
     "name": "stdout",
     "output_type": "stream",
     "text": [
      "[[16, 13, 9, 20, 25], [17, 1, 23, 5, 2], [10, 22, 6, 4, 3], [7, 14, 21, 19, 18], [11, 8, 15, 24, 12]]\n"
     ]
    }
   ],
   "source": [
    "# Question 5\n",
    "from random import choice\n",
    "\n",
    "n = 5\n",
    "# Génère un carré de taille n avec uniquement des 0\n",
    "carre = [[0 for i in range(n)] for j in range(n)]\n",
    "# Génère la suite des entiers allant de 1 à n^2\n",
    "valeurs = [i for i in range(1, n**2+1)]\n",
    "\n",
    "for i in range(n):\n",
    "    for j in range(n):\n",
    "        # On choisit au hasard un entier dans la liste\n",
    "        nombre = choice(valeurs)\n",
    "        # On le met dans le carré\n",
    "        carre[i][j] = nombre\n",
    "        # On l'enlève de la liste\n",
    "        valeurs.remove(nombre)\n",
    "# On a alors créé un carré contenant ces entiers\n",
    "# placés de manière aléaloire\n",
    "print(carre)"
   ]
  },
  {
   "cell_type": "markdown",
   "metadata": {},
   "source": [
    "# C - Une nouvelle structure de donnée : les dictionnaires"
   ]
  },
  {
   "cell_type": "code",
   "execution_count": 26,
   "metadata": {},
   "outputs": [
    {
     "data": {
      "text/plain": [
       "{'jack': 4098, 'sape': 4139, 'guido': 4127}"
      ]
     },
     "execution_count": 26,
     "metadata": {},
     "output_type": "execute_result"
    }
   ],
   "source": [
    "tel = {'jack': 4098, 'sape': 4139}\n",
    "tel['guido'] = 4127\n",
    "tel"
   ]
  },
  {
   "cell_type": "code",
   "execution_count": 27,
   "metadata": {},
   "outputs": [
    {
     "data": {
      "text/plain": [
       "4098"
      ]
     },
     "execution_count": 27,
     "metadata": {},
     "output_type": "execute_result"
    }
   ],
   "source": [
    "tel['jack']"
   ]
  },
  {
   "cell_type": "code",
   "execution_count": 28,
   "metadata": {},
   "outputs": [
    {
     "data": {
      "text/plain": [
       "{'jack': 4098, 'guido': 4127, 'irv': 4127}"
      ]
     },
     "execution_count": 28,
     "metadata": {},
     "output_type": "execute_result"
    }
   ],
   "source": [
    "del tel['sape']\n",
    "tel['irv'] = 4127\n",
    "tel"
   ]
  },
  {
   "cell_type": "code",
   "execution_count": 29,
   "metadata": {},
   "outputs": [
    {
     "data": {
      "text/plain": [
       "['jack', 'guido', 'irv']"
      ]
     },
     "execution_count": 29,
     "metadata": {},
     "output_type": "execute_result"
    }
   ],
   "source": [
    "list(tel)"
   ]
  },
  {
   "cell_type": "code",
   "execution_count": 30,
   "metadata": {},
   "outputs": [
    {
     "data": {
      "text/plain": [
       "['guido', 'irv', 'jack']"
      ]
     },
     "execution_count": 30,
     "metadata": {},
     "output_type": "execute_result"
    }
   ],
   "source": [
    "sorted(tel)"
   ]
  },
  {
   "cell_type": "code",
   "execution_count": 31,
   "metadata": {},
   "outputs": [
    {
     "data": {
      "text/plain": [
       "True"
      ]
     },
     "execution_count": 31,
     "metadata": {},
     "output_type": "execute_result"
    }
   ],
   "source": [
    "'guido' in tel"
   ]
  },
  {
   "cell_type": "markdown",
   "metadata": {},
   "source": [
    "## D - Sudoku"
   ]
  },
  {
   "cell_type": "code",
   "execution_count": null,
   "metadata": {},
   "outputs": [],
   "source": []
  }
 ],
 "metadata": {
  "kernelspec": {
   "display_name": "Python 3",
   "language": "python",
   "name": "python3"
  },
  "language_info": {
   "codemirror_mode": {
    "name": "ipython",
    "version": 3
   },
   "file_extension": ".py",
   "mimetype": "text/x-python",
   "name": "python",
   "nbconvert_exporter": "python",
   "pygments_lexer": "ipython3",
   "version": "3.6.9"
  },
  "latex_envs": {
   "LaTeX_envs_menu_present": true,
   "autoclose": false,
   "autocomplete": true,
   "bibliofile": "biblio.bib",
   "cite_by": "apalike",
   "current_citInitial": 1,
   "eqLabelWithNumbers": true,
   "eqNumInitial": 1,
   "hotkeys": {
    "equation": "Ctrl-E",
    "itemize": "Ctrl-I"
   },
   "labels_anchors": false,
   "latex_user_defs": false,
   "report_style_numbering": false,
   "user_envs_cfg": false
  }
 },
 "nbformat": 4,
 "nbformat_minor": 2
}
