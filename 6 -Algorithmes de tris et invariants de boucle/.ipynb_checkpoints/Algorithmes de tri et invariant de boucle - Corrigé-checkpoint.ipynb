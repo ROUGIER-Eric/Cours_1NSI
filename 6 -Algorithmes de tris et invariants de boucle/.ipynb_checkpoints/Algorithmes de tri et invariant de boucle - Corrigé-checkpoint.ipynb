{
 "cells": [
  {
   "cell_type": "markdown",
   "metadata": {},
   "source": [
    "<center>\n",
    "    \n",
    "# Algorithmes de tri et invariant de boucle\n",
    "    \n",
    "## Corrigé\n",
    "</center>"
   ]
  },
  {
   "cell_type": "markdown",
   "metadata": {},
   "source": [
    "## A -  Invariant de boucle"
   ]
  },
  {
   "cell_type": "markdown",
   "metadata": {},
   "source": [
    "__Exemple 1__"
   ]
  },
  {
   "cell_type": "code",
   "execution_count": 14,
   "metadata": {},
   "outputs": [],
   "source": [
    "def division_euclidienne(a : int, b : int)-> tuple:\n",
    "    \"\"\"\n",
    "    Retourne un tuple (q, r) tels que q est le quotient\n",
    "    et r le reste de la division euclidienne de a par b\n",
    "    \"\"\"\n",
    "    q = 0\n",
    "    r = a\n",
    "    while r >= b:\n",
    "        # invariant : 0 <= r\n",
    "        assert 0 <= r\n",
    "        # invariant : a = q*b + r\n",
    "        assert a == q*b+r\n",
    "        q = q + 1\n",
    "        r = r - b\n",
    "    return q, r"
   ]
  },
  {
   "cell_type": "code",
   "execution_count": 11,
   "metadata": {},
   "outputs": [
    {
     "name": "stdout",
     "output_type": "stream",
     "text": [
      "Help on function division_euclidienne in module __main__:\n",
      "\n",
      "division_euclidienne(a: int, b: int) -> tuple\n",
      "    Retour un tuple (q, r) tels que q est le quotient\n",
      "    et r le reste de la division euclidienne de a par b\n",
      "\n"
     ]
    }
   ],
   "source": [
    "# Voir la documentation\n",
    "help(division_euclidienne)"
   ]
  },
  {
   "cell_type": "code",
   "execution_count": 13,
   "metadata": {},
   "outputs": [
    {
     "name": "stdout",
     "output_type": "stream",
     "text": [
      "(2, 3)\n",
      "(0, 0)\n",
      "(100, 54)\n",
      "(0, 13)\n",
      "(40, 0)\n"
     ]
    }
   ],
   "source": [
    "# Quelques test :\n",
    "print(division_euclidienne(13, 5))\n",
    "print(division_euclidienne(0, 5))\n",
    "print(division_euclidienne(12354, 123))\n",
    "print(division_euclidienne(13, 15))\n",
    "print(division_euclidienne(160, 4))"
   ]
  },
  {
   "cell_type": "markdown",
   "metadata": {},
   "source": [
    "__Exemple 2__"
   ]
  },
  {
   "cell_type": "code",
   "execution_count": 16,
   "metadata": {},
   "outputs": [],
   "source": [
    "def somme_premiers_entiers(n : int)-> int:\n",
    "    \"\"\"\n",
    "    Retourne la somme des n premiers entiers\n",
    "    non nuls.\n",
    "    \"\"\"\n",
    "    s = 1\n",
    "    for i in range(n-1):\n",
    "        # invariant : s = 1 + 2 + ... + (i+1)\n",
    "        s = s + (i + 2)\n",
    "    return s"
   ]
  },
  {
   "cell_type": "code",
   "execution_count": 17,
   "metadata": {},
   "outputs": [
    {
     "name": "stdout",
     "output_type": "stream",
     "text": [
      "1\n",
      "6\n",
      "5050\n"
     ]
    }
   ],
   "source": [
    "# Quelques test\n",
    "print(somme_premiers_entiers(1))\n",
    "print(somme_premiers_entiers(3))\n",
    "print(somme_premiers_entiers(100))"
   ]
  },
  {
   "cell_type": "markdown",
   "metadata": {},
   "source": [
    "**_Exercice 1_**"
   ]
  },
  {
   "cell_type": "code",
   "execution_count": 19,
   "metadata": {},
   "outputs": [],
   "source": [
    "def puissance(x, n):\n",
    "    r = 1\n",
    "    for i in range(n):\n",
    "        r = r * x\n",
    "    return r"
   ]
  },
  {
   "cell_type": "markdown",
   "metadata": {},
   "source": [
    "**_1._** Un invariant de boucle est : `r = x**i` :\n",
    "- au début de la boucle, on a `i = 0` et `r = 1`. On a bien `r = x**0 = 1`.\n",
    "- à chaque itération de la boucle, on a au début `r = x**i` et à la fin `r = x**(i+1)`.\n",
    "- à la dernière itération `i = n - 1`, ainsi en sortant de la boucle on aura : `r = x**(n-1+1) = x**n`."
   ]
  },
  {
   "cell_type": "code",
   "execution_count": 20,
   "metadata": {},
   "outputs": [],
   "source": [
    "def puissance(x : float, n : int)-> float:\n",
    "    \"\"\"\n",
    "    Retourne le résultat de x à la puissance n\n",
    "    où x est un nombre réel et n un entier positf ou nul\n",
    "    \"\"\"\n",
    "    r = 1\n",
    "    for i in range(n):\n",
    "        # invariant : r = x**i\n",
    "        r = r * x\n",
    "    return r"
   ]
  },
  {
   "cell_type": "code",
   "execution_count": 21,
   "metadata": {},
   "outputs": [],
   "source": [
    "assert puissance(0, 10) == 0\n",
    "assert puissance(1, 55) == 1\n",
    "assert puissance(2, 10) == 1024\n",
    "assert puissance(7, 0) == 1\n",
    "assert puissance(-1, 7) == -1"
   ]
  },
  {
   "cell_type": "markdown",
   "metadata": {},
   "source": [
    "**_Exercice 2_**"
   ]
  },
  {
   "cell_type": "code",
   "execution_count": 23,
   "metadata": {},
   "outputs": [],
   "source": [
    "def f(t):\n",
    "    s = 0\n",
    "    for i in range(len(t)):\n",
    "        s = s + t[i]\n",
    "    return s"
   ]
  },
  {
   "cell_type": "markdown",
   "metadata": {},
   "source": [
    "Cette fonction semble calculer la somme des valeurs contenues dans le tableau `t` et 0 si le tableau est vide. \n",
    "\n",
    "Un invariant de boucle serait : `s = t[0] + t[1] + ... + t[i]`.\n",
    "- au début de la boucle : `i = 0` et `s = 0+t[0]=t[0]`, l'invariant est vérifié.\n",
    "- à chaque itération on ajoute `t[i]` à la somme déjà calculée, l'invariant est conservé.\n",
    "- la dernière valeur de `i` est `len(t)-1` qui correspond à l'indice `n-1` du dernier terme du tableau, on aura alors : `s = t[0]+t[1]+...+t[n-1]`. "
   ]
  },
  {
   "cell_type": "code",
   "execution_count": 26,
   "metadata": {},
   "outputs": [],
   "source": [
    "def somme_valeurs_tableau(t : list)-> float:\n",
    "    \"\"\"\n",
    "    Retourne la somme des valeurs du tableau t de taille n\n",
    "    et 0 si le tableau est vide.\n",
    "    Ces valeurs sont des entiers ou des nombres décimaux.\n",
    "    \"\"\"\n",
    "    s = 0\n",
    "    for i in range(len(t)):\n",
    "        # invariant : s = s[0]+s[1]+...+s[i]\n",
    "        s = s + t[i]\n",
    "    return s\n",
    "\n",
    "assert somme_valeurs_tableau([]) == 0\n",
    "assert somme_valeurs_tableau([1, 2, 3]) == 6\n",
    "assert somme_valeurs_tableau([-5.2, 10, -4.8]) == 0"
   ]
  },
  {
   "cell_type": "markdown",
   "metadata": {},
   "source": [
    "## B - Tri par sélection\n",
    "**_Exercice 3_**"
   ]
  },
  {
   "cell_type": "code",
   "execution_count": 1,
   "metadata": {},
   "outputs": [
    {
     "name": "stdout",
     "output_type": "stream",
     "text": [
      "[2, 1, 3]\n"
     ]
    }
   ],
   "source": [
    "def echange(t : list, i : int, j : int):\n",
    "    \"\"\"\n",
    "    Echange deux éléments du tableau t situés aux indices i et j\n",
    "    \"\"\"\n",
    "    temporaire = t[i]\n",
    "    t[i] = t[j]\n",
    "    t[j] = temporaire\n",
    "\n",
    "# Un test\n",
    "t = [1, 2, 3]\n",
    "echange(t, 1, 0)\n",
    "print(t)"
   ]
  },
  {
   "cell_type": "markdown",
   "metadata": {},
   "source": [
    "**_Exercice 4_**"
   ]
  },
  {
   "cell_type": "code",
   "execution_count": 2,
   "metadata": {},
   "outputs": [],
   "source": [
    "def tri_par_selection(t : list):\n",
    "    \"\"\"\n",
    "    Trie par ordre croissant le tableau t de taille n\n",
    "    en utilisant le tri par sélection\n",
    "    \"\"\"\n",
    "    n = len(t)\n",
    "    for i in range(n):\n",
    "        # t[0...i[ est trié\n",
    "        # t[0..i[ < t[i..n-1]\n",
    "        m = i\n",
    "        for j in range(i+1, n):\n",
    "            if t[j] < t[m]:\n",
    "                m = j\n",
    "        echange(t, i, m)"
   ]
  },
  {
   "cell_type": "code",
   "execution_count": 5,
   "metadata": {},
   "outputs": [
    {
     "name": "stdout",
     "output_type": "stream",
     "text": [
      "[10, 5, 6, 5, 8, 4, 4, 4, 4, 7]\n",
      "[4, 4, 4, 4, 5, 5, 6, 7, 8, 10]\n",
      "[42, 38, 30, 15, 47, 15, 20, 2, 19, 7, 31, 16, 13, 43, 38, 30, 42, 32, 35, 34, 41, 7, 39, 17, 32, 37, 3, 45, 38, 1, 34, 43, 32, 29, 47, 50, 47, 10, 49, 8, 42, 11, 42, 46, 28, 30, 43, 21, 28, 36]\n",
      "[1, 2, 3, 7, 7, 8, 10, 11, 13, 15, 15, 16, 17, 19, 20, 21, 28, 28, 29, 30, 30, 30, 31, 32, 32, 32, 34, 34, 35, 36, 37, 38, 38, 38, 39, 41, 42, 42, 42, 42, 43, 43, 43, 45, 46, 47, 47, 47, 49, 50]\n"
     ]
    }
   ],
   "source": [
    "from random import randint\n",
    "n = 10\n",
    "t = [randint(1, n) for i in range(n)]\n",
    "print(t)\n",
    "tri_par_selection(t)\n",
    "print(t)\n",
    "\n",
    "# Quelques tests\n",
    "n = 50\n",
    "t = [randint(1, n) for i in range(n)]\n",
    "print(t)\n",
    "tri_par_selection(t)\n",
    "print(t)"
   ]
  },
  {
   "cell_type": "markdown",
   "metadata": {},
   "source": [
    "**Preuve de la correction :**\n",
    "- au début on a `i = 0`, ainsi le tableau de gauche est vide donc trié. Le deuxième point est aussi vérifé.\n",
    "- à chaque itération on échange `t[i]` et `t[m]` avec m dans `[i+1, n-1]` et `t[m] < t[i]`, ainsi les éléments `t[0...i]` seront encore triés puisque `t[i]` est plus grand que ceux à sa gauche et plus petit que ceux à sa droite : `t[0...i+1[<t[i+1...n-1]`.\n",
    "- à la fin de boucle, on a `i=n-1`, ainsi on n'entre pas dans la deuxième boucle car `i+1=n`, ainsi le tableau `t[0...n-1]` est bien trié car `t[0...n-2]` l'est et `t[n-1]` est plus grand que la partie gauche du tableau."
   ]
  },
  {
   "cell_type": "markdown",
   "metadata": {},
   "source": [
    "## C - Tri par insertion\n",
    "**_Exercice 5_**"
   ]
  },
  {
   "cell_type": "code",
   "execution_count": 3,
   "metadata": {},
   "outputs": [
    {
     "name": "stdout",
     "output_type": "stream",
     "text": [
      "[0, 1, 2, 3, 5]\n",
      "[0, 1, 2, 5, 1]\n",
      "[0, 1, 1, 2, 5]\n"
     ]
    }
   ],
   "source": [
    "def insere(t : list, i : int):\n",
    "    \"\"\"\n",
    "    Insere la valeur v = t[i] dans la partie du tableau\n",
    "    t[0..i] en supposant t[0..i-1] déjà trié\n",
    "    \"\"\"\n",
    "    j = i-1\n",
    "    v = t[i]\n",
    "    while t[j] > v and j >= 0:\n",
    "        t[j+1] = t[j]\n",
    "        t[j] = v\n",
    "        j = j - 1\n",
    "    # On a soit v <= t[j] pour j < i ou j = -1\n",
    "    # La partie droite du tableau est encore trié\n",
    "    # car t[j] = v, d'où t[j] < t[j+1] ou v = t[0]\n",
    "    \n",
    "t = [1,2,3,5,0]\n",
    "insere(t, 4)\n",
    "print(t)\n",
    "t = [1,2,5,0,1]\n",
    "insere(t, 3)\n",
    "print(t)        \n",
    "insere(t, 4)\n",
    "print(t)        "
   ]
  },
  {
   "cell_type": "code",
   "execution_count": 6,
   "metadata": {},
   "outputs": [
    {
     "name": "stdout",
     "output_type": "stream",
     "text": [
      "[19, 13, 20, 22, 48, 33, 3, 6, 4, 35, 24, 11, 44, 27, 16, 7, 49, 7, 36, 34, 1, 20, 41, 42, 14, 25, 45, 6, 50, 5, 47, 36, 22, 44, 19, 17, 31, 19, 42, 25, 7, 50, 18, 41, 47, 45, 9, 8, 27, 16]\n",
      "[1, 3, 4, 5, 6, 6, 7, 7, 7, 8, 9, 11, 13, 14, 16, 16, 17, 18, 19, 19, 19, 20, 20, 22, 22, 24, 25, 25, 27, 27, 31, 33, 34, 35, 36, 36, 41, 41, 42, 42, 44, 44, 45, 45, 47, 47, 48, 49, 50, 50]\n"
     ]
    }
   ],
   "source": [
    "def tri_par_insertion(t : list):\n",
    "    \"\"\"\n",
    "    Trie par ordre croissant le tableau t de taille n\n",
    "    en utilisant le tri par sélection\n",
    "    \"\"\"\n",
    "    n = len(t)\n",
    "    for i in range(n):\n",
    "        # Invariant : la partie t[0..i] du tableau est triée\n",
    "        insere(t, i)\n",
    "\n",
    "# Quelques tests\n",
    "n = 50\n",
    "t = [randint(1, n) for i in range(n)]\n",
    "print(t)\n",
    "tri_par_selection(t)\n",
    "print(t)      "
   ]
  },
  {
   "cell_type": "markdown",
   "metadata": {},
   "source": [
    "**Preuve de la correction :**\n",
    "- au début de la boucle, on a `i = 0`, on peut considérer que `t[0]` est trié\n",
    "- à chaque itération on insère l'élément d'indice `i` dans la partie `t[0..i-1]` déjà triée. À l'issue de cet insertion, la partie `t[0..i]` en triée\n",
    "- à la dernière itération, on a `i = n-1`. Ainsi, on insère le dernier élément du tableau dans la partie déjà triée et à la fin de la boucle tout le tableau est trié"
   ]
  },
  {
   "cell_type": "markdown",
   "metadata": {},
   "source": [
    "## D - Efficacité et notion informelle de complexité"
   ]
  },
  {
   "cell_type": "markdown",
   "metadata": {},
   "source": [
    "**_Exercice 6_**"
   ]
  },
  {
   "cell_type": "code",
   "execution_count": 7,
   "metadata": {},
   "outputs": [
    {
     "name": "stdout",
     "output_type": "stream",
     "text": [
      "[6, 8, 4, 9, 1, 0, 5, 7, 3, 2]\n",
      "[21, 34, 46, 44, 2, 41, 10, 45, 4, 11, 40, 30, 1, 12, 36, 5, 9, 39, 8, 19, 7, 13, 16, 28, 32, 37, 27, 15, 49, 6, 42, 22, 18, 14, 26, 47, 3, 20, 23, 48, 43, 24, 17, 31, 0, 38, 35, 33, 29, 25]\n"
     ]
    }
   ],
   "source": [
    "from random import shuffle\n",
    "\n",
    "def tableau_melange(n : int)-> list:\n",
    "    \"\"\"\n",
    "    Génère un tableau d'entiers\n",
    "    \"\"\"\n",
    "    t = [i for i in range(n)]\n",
    "    shuffle(t)\n",
    "    return t\n",
    "\n",
    "print(tableau_melange(10))\n",
    "print(tableau_melange(50))"
   ]
  },
  {
   "cell_type": "code",
   "execution_count": 8,
   "metadata": {},
   "outputs": [],
   "source": [
    "from time import time\n",
    "def mesure_temps(f, n)-> float:\n",
    "    t = tableau_melange(n)\n",
    "    debut = time()\n",
    "    f(t)\n",
    "    fin = time()\n",
    "    return fin - debut"
   ]
  },
  {
   "cell_type": "code",
   "execution_count": null,
   "metadata": {},
   "outputs": [
    {
     "name": "stdout",
     "output_type": "stream",
     "text": [
      "taille : 1000\n",
      "Tri par selection : 0.05439043045043945, Tri par insertion : 0.044118642807006836, Méthode sort : 6.4373016357421875e-06\n",
      "taille : 5000\n",
      "Tri par selection : 0.8913102149963379, Tri par insertion : 1.0719892978668213, Méthode sort : 4.76837158203125e-06\n",
      "taille : 10000\n",
      "Tri par selection : 3.691429615020752, Tri par insertion : 4.143273115158081, Méthode sort : 5.0067901611328125e-06\n"
     ]
    }
   ],
   "source": [
    "tailles = [10**3, 5*10**3, 10**4, 5*10**4, 10**5, 5*10**5, 10**6]\n",
    "for taille in tailles:\n",
    "    temps_tri1 = mesure_temps(tri_par_selection, taille)\n",
    "    temps_tri2 = mesure_temps(tri_par_insertion, taille)\n",
    "    t = tableau_melange(n)\n",
    "    debut = time()\n",
    "    t.sort()\n",
    "    fin = time()\n",
    "    temps_tri3 = fin - debut\n",
    "    print(f\"taille : {taille}\")\n",
    "    print(f\"Tri par selection : {temps_tri1}, Tri par insertion : {temps_tri2}, Méthode sort : {temps_tri3}\")"
   ]
  },
  {
   "cell_type": "code",
   "execution_count": 47,
   "metadata": {},
   "outputs": [
    {
     "ename": "NameError",
     "evalue": "name 'sort' is not defined",
     "output_type": "error",
     "traceback": [
      "\u001b[0;31m---------------------------------------------------------------------------\u001b[0m",
      "\u001b[0;31mNameError\u001b[0m                                 Traceback (most recent call last)",
      "\u001b[0;32m<ipython-input-47-24a5eb4d0b8b>\u001b[0m in \u001b[0;36m<module>\u001b[0;34m\u001b[0m\n\u001b[0;32m----> 1\u001b[0;31m \u001b[0msort\u001b[0m\u001b[0;34m(\u001b[0m\u001b[0mt\u001b[0m\u001b[0;34m)\u001b[0m\u001b[0;34m\u001b[0m\u001b[0;34m\u001b[0m\u001b[0m\n\u001b[0m",
      "\u001b[0;31mNameError\u001b[0m: name 'sort' is not defined"
     ]
    }
   ],
   "source": [
    "sort(t)"
   ]
  },
  {
   "cell_type": "code",
   "execution_count": null,
   "metadata": {},
   "outputs": [],
   "source": []
  }
 ],
 "metadata": {
  "kernelspec": {
   "display_name": "Python 3",
   "language": "python",
   "name": "python3"
  },
  "language_info": {
   "codemirror_mode": {
    "name": "ipython",
    "version": 3
   },
   "file_extension": ".py",
   "mimetype": "text/x-python",
   "name": "python",
   "nbconvert_exporter": "python",
   "pygments_lexer": "ipython3",
   "version": "3.7.3"
  },
  "latex_envs": {
   "LaTeX_envs_menu_present": true,
   "autoclose": false,
   "autocomplete": true,
   "bibliofile": "biblio.bib",
   "cite_by": "apalike",
   "current_citInitial": 1,
   "eqLabelWithNumbers": true,
   "eqNumInitial": 1,
   "hotkeys": {
    "equation": "Ctrl-E",
    "itemize": "Ctrl-I"
   },
   "labels_anchors": false,
   "latex_user_defs": false,
   "report_style_numbering": false,
   "user_envs_cfg": false
  }
 },
 "nbformat": 4,
 "nbformat_minor": 2
}
