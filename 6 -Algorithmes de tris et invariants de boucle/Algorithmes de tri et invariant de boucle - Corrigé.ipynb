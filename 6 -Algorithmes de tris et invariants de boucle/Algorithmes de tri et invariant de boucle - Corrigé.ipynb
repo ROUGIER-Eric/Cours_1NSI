{
 "cells": [
  {
   "cell_type": "markdown",
   "metadata": {},
   "source": [
    "<center>\n",
    "    \n",
    "# Algorithmes de tri et invariant de boucle\n",
    "    \n",
    "## Corrigé\n",
    "</center>"
   ]
  },
  {
   "cell_type": "markdown",
   "metadata": {},
   "source": [
    "## A -  Invariant de boucle"
   ]
  },
  {
   "cell_type": "markdown",
   "metadata": {},
   "source": [
    "__Exemple 1__"
   ]
  },
  {
   "cell_type": "code",
   "execution_count": 1,
   "metadata": {},
   "outputs": [],
   "source": [
    "def division_euclidienne(a : int, b : int)-> tuple:\n",
    "    \"\"\"\n",
    "    Retourne un tuple (q, r) tels que q est le quotient\n",
    "    et r le reste de la division euclidienne de a par b\n",
    "    \"\"\"\n",
    "    q = 0\n",
    "    r = a\n",
    "    while r >= b:\n",
    "        # invariant : 0 <= r\n",
    "        assert 0 <= r\n",
    "        # invariant : a = q*b + r\n",
    "        assert a == q*b+r\n",
    "        q = q + 1\n",
    "        r = r - b\n",
    "    return q, r"
   ]
  },
  {
   "cell_type": "code",
   "execution_count": 2,
   "metadata": {},
   "outputs": [
    {
     "name": "stdout",
     "output_type": "stream",
     "text": [
      "Help on function division_euclidienne in module __main__:\n",
      "\n",
      "division_euclidienne(a: int, b: int) -> tuple\n",
      "    Retourne un tuple (q, r) tels que q est le quotient\n",
      "    et r le reste de la division euclidienne de a par b\n",
      "\n"
     ]
    }
   ],
   "source": [
    "# Voir la documentation\n",
    "help(division_euclidienne)"
   ]
  },
  {
   "cell_type": "code",
   "execution_count": 3,
   "metadata": {},
   "outputs": [
    {
     "name": "stdout",
     "output_type": "stream",
     "text": [
      "(2, 3)\n",
      "(0, 0)\n",
      "(100, 54)\n",
      "(0, 13)\n",
      "(40, 0)\n"
     ]
    }
   ],
   "source": [
    "# Quelques test :\n",
    "print(division_euclidienne(13, 5))\n",
    "print(division_euclidienne(0, 5))\n",
    "print(division_euclidienne(12354, 123))\n",
    "print(division_euclidienne(13, 15))\n",
    "print(division_euclidienne(160, 4))"
   ]
  },
  {
   "cell_type": "markdown",
   "metadata": {},
   "source": [
    "__Exemple 2__"
   ]
  },
  {
   "cell_type": "code",
   "execution_count": 4,
   "metadata": {},
   "outputs": [],
   "source": [
    "def somme_premiers_entiers(n : int)-> int:\n",
    "    \"\"\"\n",
    "    Retourne la somme des n premiers entiers\n",
    "    non nuls.\n",
    "    \"\"\"\n",
    "    s = 1\n",
    "    for i in range(n-1):\n",
    "        # invariant : s = 1 + 2 + ... + (i+1)\n",
    "        s = s + (i + 2)\n",
    "    return s"
   ]
  },
  {
   "cell_type": "code",
   "execution_count": 5,
   "metadata": {},
   "outputs": [
    {
     "name": "stdout",
     "output_type": "stream",
     "text": [
      "1\n",
      "6\n",
      "5050\n"
     ]
    }
   ],
   "source": [
    "# Quelques test\n",
    "print(somme_premiers_entiers(1))\n",
    "print(somme_premiers_entiers(3))\n",
    "print(somme_premiers_entiers(100))"
   ]
  },
  {
   "cell_type": "markdown",
   "metadata": {},
   "source": [
    "**_Exercice 1_**"
   ]
  },
  {
   "cell_type": "code",
   "execution_count": 6,
   "metadata": {},
   "outputs": [],
   "source": [
    "def puissance(x, n):\n",
    "    r = 1\n",
    "    for i in range(n):\n",
    "        r = r * x\n",
    "    return r"
   ]
  },
  {
   "cell_type": "markdown",
   "metadata": {},
   "source": [
    "**_1._** Un invariant de boucle est : `r = x**i` :\n",
    "- au début de la boucle (avant d'effectuer les instructions de la boucle), on a `i = 0` et `r = 1`. On a bien `r = x**0 = 1`.\n",
    "- à chaque itération de la boucle, on a au début `r = x**i` et à la fin `r = (x**i)*x=x**(i+1)`, l'invariant est préservé.\n",
    "- à la dernière itération `i = n - 1`, ainsi en sortant de la boucle on aura : `r = (x**i)*x=x**(n-1)*x= x**n`."
   ]
  },
  {
   "cell_type": "code",
   "execution_count": 7,
   "metadata": {},
   "outputs": [],
   "source": [
    "def puissance(x : float, n : int)-> float:\n",
    "    \"\"\"\n",
    "    Retourne le résultat de x à la puissance n\n",
    "    où x est un nombre réel et n un entier positf ou nul\n",
    "    \"\"\"\n",
    "    r = 1\n",
    "    for i in range(n):\n",
    "        # invariant : r = x**i\n",
    "        r = r * x\n",
    "    return r"
   ]
  },
  {
   "cell_type": "code",
   "execution_count": 8,
   "metadata": {},
   "outputs": [],
   "source": [
    "assert puissance(0, 10) == 0\n",
    "assert puissance(1, 55) == 1\n",
    "assert puissance(2, 10) == 1024\n",
    "assert puissance(7, 0) == 1\n",
    "assert puissance(-1, 7) == -1"
   ]
  },
  {
   "cell_type": "markdown",
   "metadata": {},
   "source": [
    "**_Exercice 2_**"
   ]
  },
  {
   "cell_type": "code",
   "execution_count": 9,
   "metadata": {},
   "outputs": [],
   "source": [
    "def f(t):\n",
    "    s = 0\n",
    "    for i in range(len(t)):\n",
    "        s = s + t[i]\n",
    "    return s"
   ]
  },
  {
   "cell_type": "markdown",
   "metadata": {},
   "source": [
    "Cette fonction semble calculer la somme des valeurs contenues dans le tableau `t` et 0 si le tableau est vide. \n",
    "\n",
    "Un invariant de boucle serait : `s = t[0] + t[1] + ... + t[i-1]` si `i>=1` et `s = 0` sinon.\n",
    "- au début de la boucle : `i = 0` et `s = 0`, l'invariant est vérifié.\n",
    "- à chaque itération on a `s = s + t[i]=t[0]+t[1]+...+t[i-1]+t[i]=t[0]+t[1]+...+t[(i-1)+1]`, l'invariant est conservé.\n",
    "- la dernière valeur de `i` est `len(t)-1` qui correspond à l'indice `n-1` du dernier terme du tableau, on aura alors :    \n",
    "`s = s+t[n-1]=t[0]+t[1]+...+t[n-2]+t[n-1]` : ce qui correspond bien à la somme des éléments du tableau `t`."
   ]
  },
  {
   "cell_type": "code",
   "execution_count": 51,
   "metadata": {},
   "outputs": [],
   "source": [
    "def somme_valeurs_tableau(t : list)-> float:\n",
    "    \"\"\"\n",
    "    Retourne la somme des valeurs du tableau t de taille n\n",
    "    et 0 si le tableau est vide.\n",
    "    Ces valeurs sont des entiers ou des nombres décimaux.\n",
    "    \"\"\"\n",
    "    s = 0\n",
    "    for i in range(len(t)):\n",
    "        # invariant : s = t[0]+t[1]+...+t[i-1]\n",
    "        s = s + t[i]\n",
    "    return s\n",
    "\n",
    "assert somme_valeurs_tableau([]) == 0\n",
    "assert somme_valeurs_tableau([1, 2, 3]) == 6\n",
    "assert somme_valeurs_tableau([-5.2, 10, -4.8]) == 0"
   ]
  },
  {
   "cell_type": "markdown",
   "metadata": {},
   "source": [
    "## B - Tri par sélection\n",
    "**_Exercice 3_**"
   ]
  },
  {
   "cell_type": "code",
   "execution_count": 9,
   "metadata": {},
   "outputs": [],
   "source": [
    "def echange(t : list, i : int, j : int):\n",
    "    \"\"\"\n",
    "    Echange deux éléments du tableau t situés aux indices i et j\n",
    "    \"\"\"\n",
    "    temporaire = t[i]\n",
    "    t[i] = t[j]\n",
    "    t[j] = temporaire\n",
    "\n",
    "# Un test\n",
    "t = [1, 2, 3]\n",
    "echange(t, 1, 0)\n",
    "assert t == [2, 1, 3]"
   ]
  },
  {
   "cell_type": "markdown",
   "metadata": {},
   "source": [
    "**_Exercice 4_**"
   ]
  },
  {
   "cell_type": "code",
   "execution_count": 7,
   "metadata": {},
   "outputs": [],
   "source": [
    "def tri_par_selection(t : list):\n",
    "    \"\"\"\n",
    "    Trie par ordre croissant le tableau t de taille n\n",
    "    en utilisant le tri par sélection\n",
    "    \"\"\"\n",
    "    n = len(t)\n",
    "    for i in range(n):\n",
    "        # t[0...i[ est trié\n",
    "        # t[0..i[ < t[i..n-1]\n",
    "        m = i\n",
    "        for j in range(i+1, n):\n",
    "            if t[j] < t[m]:\n",
    "                m = j\n",
    "        echange(t, i, m)"
   ]
  },
  {
   "cell_type": "code",
   "execution_count": 11,
   "metadata": {},
   "outputs": [
    {
     "name": "stdout",
     "output_type": "stream",
     "text": [
      "[6, 8, 1, 7, 8, 1, 1, 6, 2, 4]\n",
      "[1, 1, 1, 2, 4, 6, 6, 7, 8, 8]\n",
      "[10, 24, 10, 31, 48, 46, 21, 5, 47, 50, 45, 16, 43, 39, 6, 30, 10, 9, 26, 42, 45, 34, 30, 30, 15, 27, 10, 45, 5, 25, 26, 44, 12, 19, 3, 4, 4, 18, 30, 24, 39, 20, 18, 13, 48, 44, 9, 8, 19, 15]\n",
      "[3, 4, 4, 5, 5, 6, 8, 9, 9, 10, 10, 10, 10, 12, 13, 15, 15, 16, 18, 18, 19, 19, 20, 21, 24, 24, 25, 26, 26, 27, 30, 30, 30, 30, 31, 34, 39, 39, 42, 43, 44, 44, 45, 45, 45, 46, 47, 48, 48, 50]\n"
     ]
    }
   ],
   "source": [
    "# Quelques tests\n",
    "from random import randint\n",
    "n = 10\n",
    "t = [randint(1, n) for i in range(n)]\n",
    "print(t)\n",
    "tri_par_selection(t)\n",
    "print(t)\n",
    "\n",
    "n = 50\n",
    "t = [randint(1, n) for i in range(n)]\n",
    "print(t)\n",
    "tri_par_selection(t)\n",
    "print(t)"
   ]
  },
  {
   "cell_type": "markdown",
   "metadata": {},
   "source": [
    "**Preuve de la correction :**\n",
    "- au début on a `i = 0`, ainsi le tableau de gauche est vide donc trié. Le deuxième point est aussi vérifé.\n",
    "- à chaque itération on échange `t[i]` et `t[m]` avec m dans `[i+1, n-1]` et `t[m] < t[i]`, ainsi les éléments `t[0...i]` seront encore triés puisque `t[i]` est plus grand que ceux à sa gauche et plus petit que ceux à sa droite : `t[0...i+1[<t[i+1...n-1]`.\n",
    "- à la fin de boucle, on a `i=n-1`, ainsi on n'entre pas dans la deuxième boucle car `i+1=n`, ainsi le tableau `t[0...n-1]` est bien trié car `t[0...n-2]` l'est et `t[n-1]` est plus grand que la partie gauche du tableau."
   ]
  },
  {
   "cell_type": "markdown",
   "metadata": {},
   "source": [
    "## C - Tri par insertion\n",
    "**_Exercice 5_**"
   ]
  },
  {
   "cell_type": "code",
   "execution_count": 4,
   "metadata": {},
   "outputs": [],
   "source": [
    "def insere(t : list, i : int):\n",
    "    \"\"\"\n",
    "    Insere la valeur v = t[i] dans la partie du tableau\n",
    "    t[0..i] en supposant t[0..i-1] déjà trié\n",
    "    \"\"\"\n",
    "    j = i-1\n",
    "    v = t[i]\n",
    "    while t[j] > v and j >= 0:\n",
    "        t[j+1] = t[j]\n",
    "        t[j] = v\n",
    "        j = j - 1\n",
    "    # On a soit v <= t[j] pour j < i ou j = -1\n",
    "    # La partie droite du tableau est encore trié\n",
    "    # car t[j] = v, d'où t[j] < t[j+1] ou v = t[0]\n",
    "\n",
    "# Quelques tests\n",
    "t = [2]\n",
    "insere(t, 0)\n",
    "assert t == [2]\n",
    "t = [1,2,3,5,0,1]\n",
    "insere(t, 4)\n",
    "assert t == [0, 1, 2, 3, 5, 1]\n",
    "insere(t, 5)\n",
    "assert t == [0, 1, 1, 2, 3, 5]"
   ]
  },
  {
   "cell_type": "code",
   "execution_count": 13,
   "metadata": {},
   "outputs": [],
   "source": [
    "def tri_par_insertion(t : list):\n",
    "    \"\"\"\n",
    "    Trie par ordre croissant le tableau t de taille n\n",
    "    en utilisant le tri par sélection\n",
    "    \"\"\"\n",
    "    n = len(t)\n",
    "    for i in range(n):\n",
    "        # Invariant : la partie t[0..i] du tableau est triée\n",
    "        insere(t, i)\n",
    "\n",
    "# Quelques tests\n",
    "n = 1000\n",
    "t = [randint(1, n) for i in range(n)]\n",
    "tri_par_selection(t)\n",
    "assert t == sorted(t)"
   ]
  },
  {
   "cell_type": "markdown",
   "metadata": {},
   "source": [
    "**Preuve de la correction :**\n",
    "- au début de la boucle, on a `i = 0`, on peut considérer que `t[0]` est trié\n",
    "- à chaque itération on insère l'élément d'indice `i` dans la partie `t[0..i-1]` déjà triée. À l'issue de cet insertion, la partie `t[0..i]` en triée\n",
    "- à la dernière itération, on a `i = n-1`. Ainsi, on insère le dernier élément du tableau dans la partie déjà triée et à la fin de la boucle tout le tableau est trié"
   ]
  },
  {
   "cell_type": "markdown",
   "metadata": {},
   "source": [
    "## D - Efficacité et notion informelle de complexité"
   ]
  },
  {
   "cell_type": "markdown",
   "metadata": {},
   "source": [
    "**_Exercice 6_**"
   ]
  },
  {
   "cell_type": "code",
   "execution_count": 16,
   "metadata": {},
   "outputs": [
    {
     "name": "stdout",
     "output_type": "stream",
     "text": [
      "[6, 2, 9, 1, 4, 3, 5, 7, 8, 0]\n",
      "[15, 48, 19, 20, 5, 26, 43, 7, 36, 17, 27, 45, 41, 18, 46, 40, 42, 22, 0, 24, 6, 21, 1, 23, 30, 38, 11, 28, 4, 10, 33, 2, 31, 25, 34, 39, 37, 44, 29, 14, 3, 13, 9, 12, 47, 32, 35, 8, 49, 16]\n"
     ]
    }
   ],
   "source": [
    "from random import shuffle\n",
    "\n",
    "def tableau_melange(n : int)-> list:\n",
    "    \"\"\"\n",
    "    Génère un tableau d'entiers de taille n\n",
    "    \"\"\"\n",
    "    t = [i for i in range(n)]\n",
    "    shuffle(t)\n",
    "    return t\n",
    "\n",
    "print(tableau_melange(10))\n",
    "print(tableau_melange(50))"
   ]
  },
  {
   "cell_type": "code",
   "execution_count": 17,
   "metadata": {},
   "outputs": [],
   "source": [
    "from time import time\n",
    "def mesure_temps(f, n)-> float:\n",
    "    t = tableau_melange(n)\n",
    "    debut = time()\n",
    "    f(t)\n",
    "    fin = time()\n",
    "    return fin - debut"
   ]
  },
  {
   "cell_type": "code",
   "execution_count": 18,
   "metadata": {},
   "outputs": [
    {
     "name": "stdout",
     "output_type": "stream",
     "text": [
      "Taille : 100\n",
      "Tri par selection : 0.0004181861877441406, Tri par insertion : 0.0005292892456054688\n",
      "Taille : 500\n",
      "Tri par selection : 0.009838581085205078, Tri par insertion : 0.017740726470947266\n",
      "Taille : 1000\n",
      "Tri par selection : 0.03466296195983887, Tri par insertion : 0.03734755516052246\n",
      "Taille : 2000\n",
      "Tri par selection : 0.1313643455505371, Tri par insertion : 0.1608273983001709\n",
      "Taille : 5000\n",
      "Tri par selection : 0.8477630615234375, Tri par insertion : 0.9679203033447266\n",
      "Taille : 10000\n",
      "Tri par selection : 3.3702354431152344, Tri par insertion : 3.8735203742980957\n",
      "Taille : 20000\n",
      "Tri par selection : 13.466670274734497, Tri par insertion : 15.932206630706787\n"
     ]
    }
   ],
   "source": [
    "tailles = [100, 500, 1000, 2000, 5000, 10000, 20000]\n",
    "temps_tri1 = []\n",
    "temps_tri2 = []\n",
    "i = 0\n",
    "for taille in tailles:\n",
    "    temps_tri1.append(mesure_temps(tri_par_selection, taille))\n",
    "    temps_tri2.append(mesure_temps(tri_par_insertion, taille))\n",
    "    print(f\"Taille : {taille}\")\n",
    "    print(f\"Tri par selection : {temps_tri1[i]}, Tri par insertion : {temps_tri2[i]}\")\n",
    "    i = i + 1"
   ]
  },
  {
   "cell_type": "code",
   "execution_count": 20,
   "metadata": {},
   "outputs": [
    {
     "data": {
      "text/plain": [
       "[0.0004181861877441406,\n",
       " 0.009838581085205078,\n",
       " 0.03466296195983887,\n",
       " 0.1313643455505371,\n",
       " 0.8477630615234375,\n",
       " 3.3702354431152344,\n",
       " 13.466670274734497]"
      ]
     },
     "execution_count": 20,
     "metadata": {},
     "output_type": "execute_result"
    }
   ],
   "source": [
    "temps_tri1"
   ]
  },
  {
   "cell_type": "code",
   "execution_count": 21,
   "metadata": {},
   "outputs": [
    {
     "data": {
      "text/plain": [
       "[0.0005292892456054688,\n",
       " 0.017740726470947266,\n",
       " 0.03734755516052246,\n",
       " 0.1608273983001709,\n",
       " 0.9679203033447266,\n",
       " 3.8735203742980957,\n",
       " 15.932206630706787]"
      ]
     },
     "execution_count": 21,
     "metadata": {},
     "output_type": "execute_result"
    }
   ],
   "source": [
    "temps_tri2"
   ]
  },
  {
   "cell_type": "code",
   "execution_count": 23,
   "metadata": {
    "scrolled": true
   },
   "outputs": [
    {
     "data": {
      "image/png": "[encoded data removed]",
      "text/plain": [
       "<Figure size 432x288 with 1 Axes>"
      ]
     },
     "metadata": {
      "needs_background": "light"
     },
     "output_type": "display_data"
    }
   ],
   "source": [
    "from matplotlib import pyplot\n",
    "\n",
    "nombre_tests = 10\n",
    "taille_max = 5000\n",
    "x = [i*taille_max/nombre_tests for i in range(nombre_tests+1)]\n",
    "y = [mesure_temps(tri_par_selection, int(i)) for i in x]\n",
    "pyplot.plot(x, y, linestyle = 'none', marker = '.', color = 'green')\n",
    "pyplot.xlim(0, taille_max)\n",
    "pyplot.ylim(0, y[nombre_tests])\n",
    "pyplot.title(\"Tri par sélection\")\n",
    "pyplot.show()"
   ]
  },
  {
   "cell_type": "code",
   "execution_count": 24,
   "metadata": {},
   "outputs": [
    {
     "data": {
      "image/png": "[encoded data removed]",
      "text/plain": [
       "<Figure size 432x288 with 1 Axes>"
      ]
     },
     "metadata": {
      "needs_background": "light"
     },
     "output_type": "display_data"
    }
   ],
   "source": [
    "from matplotlib import pyplot\n",
    "\n",
    "nombre_tests = 10\n",
    "taille_max = 5000\n",
    "x = [i*taille_max/nombre_tests for i in range(nombre_tests+1)]\n",
    "y = [mesure_temps(tri_par_insertion, int(i)) for i in x]\n",
    "pyplot.plot(x, y, linestyle = 'none', marker = '.', color = 'green')\n",
    "pyplot.xlim(0, taille_max)\n",
    "pyplot.ylim(0, y[nombre_tests])\n",
    "pyplot.title(\"Tri par insertion\")\n",
    "pyplot.show()"
   ]
  },
  {
   "cell_type": "markdown",
   "metadata": {},
   "source": [
    "**_Exercice 7_**\n",
    "\n",
    "La boucle principale fait `n` appels à la fonction `insere`. Cette fonction dans le pire des cas (où le tableau est rangé par ordre décroissant au départ) réalise 1 déplacement de valeur dans le tableau, puis 2, ..., puis `n-1`, c'est-à-dire `(n-1)*n/2` opérations élémentaires.\n",
    "\n",
    "Si le tableau est déjà trié, dans la fontion `insere`, on sort immédiatement de la boucle `while`, sans modification du tableau. Cet appel à `insere` se fait en temps constant, par conséquent, le tri par insertion se limite à `n` appels à la fonction `insere`, d'où un temps proportionnel à `n^2`.\n",
    "\n",
    "Plus généralement, le tri par insertion se comport favorablement si le tableau est \"presque trié\", ce qui arrive plus souvent qu'on ne le pense avec des données réalistes."
   ]
  },
  {
   "cell_type": "markdown",
   "metadata": {},
   "source": [
    "## Les tris fournis par Python\n",
    "La fonction `sorted` génère un nouveau tableau trié à partir de celui donné en entrée :"
   ]
  },
  {
   "cell_type": "code",
   "execution_count": 47,
   "metadata": {},
   "outputs": [
    {
     "name": "stdout",
     "output_type": "stream",
     "text": [
      "t : [5, 2, 1, 4] et s : [1, 2, 4, 5]\n"
     ]
    }
   ],
   "source": [
    "t = [5, 2, 1, 4]\n",
    "s = sorted(t)\n",
    "print(f\"t : {t} et s : {s}\")"
   ]
  },
  {
   "cell_type": "markdown",
   "metadata": {},
   "source": [
    "La méthode `sort` des objets de type `list` réalise le tri en place du tableau : il ne fabrique pas de copie en sortie :"
   ]
  },
  {
   "cell_type": "code",
   "execution_count": 49,
   "metadata": {},
   "outputs": [
    {
     "name": "stdout",
     "output_type": "stream",
     "text": [
      "t : [1, 2, 4, 5]\n"
     ]
    }
   ],
   "source": [
    "t = [5, 2, 1, 4]\n",
    "t.sort()\n",
    "print(f\"t : {t}\")"
   ]
  }
 ],
 "metadata": {
  "kernelspec": {
   "display_name": "Python 3",
   "language": "python",
   "name": "python3"
  },
  "language_info": {
   "codemirror_mode": {
    "name": "ipython",
    "version": 3
   },
   "file_extension": ".py",
   "mimetype": "text/x-python",
   "name": "python",
   "nbconvert_exporter": "python",
   "pygments_lexer": "ipython3",
   "version": "3.7.3"
  },
  "latex_envs": {
   "LaTeX_envs_menu_present": true,
   "autoclose": false,
   "autocomplete": true,
   "bibliofile": "biblio.bib",
   "cite_by": "apalike",
   "current_citInitial": 1,
   "eqLabelWithNumbers": true,
   "eqNumInitial": 1,
   "hotkeys": {
    "equation": "Ctrl-E",
    "itemize": "Ctrl-I"
   },
   "labels_anchors": false,
   "latex_user_defs": false,
   "report_style_numbering": false,
   "user_envs_cfg": false
  }
 },
 "nbformat": 4,
 "nbformat_minor": 2
}
