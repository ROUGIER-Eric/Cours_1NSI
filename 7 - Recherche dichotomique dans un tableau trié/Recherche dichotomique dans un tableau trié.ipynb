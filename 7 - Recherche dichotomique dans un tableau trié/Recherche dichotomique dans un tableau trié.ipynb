{
 "cells": [
  {
   "cell_type": "markdown",
   "metadata": {},
   "source": [
    "<center><h1>Lycée Pierre-Gilles de Gennes</h1></center>"
   ]
  },
  {
   "cell_type": "markdown",
   "metadata": {},
   "source": [
    "# Recherche dichotomique dans un tableau trié"
   ]
  },
  {
   "cell_type": "markdown",
   "metadata": {},
   "source": [
    "## C - Programmation de l’algorithme\n",
    "Voici le début de la fonction `recherche_dichotomique` avec sa spécification et sa\n",
    "documentation, il reste une partie à écrire en vous inspirant de ce qui a été décrit dans la partie\n",
    "précédente. Vous avec également des ... à compléter."
   ]
  },
  {
   "cell_type": "markdown",
   "metadata": {},
   "source": [
    "**Exercice 2**  \n",
    "**1.** Programmer cette fonction."
   ]
  },
  {
   "cell_type": "code",
   "execution_count": 2,
   "metadata": {},
   "outputs": [],
   "source": [
    "def recherche_dichotomique(L : list, x : int or float) -> int:\n",
    "    \"\"\"renvoie une position de x dans le tableau L, supposé trié,\n",
    "    et None si x ne s'y trouve pas\"\"\"\n",
    "    g = 0\n",
    "    d = len(L)-1\n",
    "    while g <= d:\n",
    "        # invariant : 0 <= g et d < len(L)\n",
    "        # invariant : x ne peut se trouver que dans L[g-1..d]\n",
    "        k = (g+d)//2\n",
    "        if L[k] <= x:\n",
    "            g = k + 1\n",
    "        else:\n",
    "            d = k - 1\n",
    "    # où l'on vérifie si x est dans L\n",
    "    if d >= 0 and L[d] == x:\n",
    "        return d\n",
    "    else:\n",
    "        return None"
   ]
  },
  {
   "cell_type": "markdown",
   "metadata": {},
   "source": [
    "**2.** La construction décrite de l’algorithme dans la partie B permet de donner une preuve de la correction de l’algorithme de recherche dichotomique. Vérifier néanmoins que les invariants indiqués dans le bout de code précédent le sont bien."
   ]
  },
  {
   "cell_type": "markdown",
   "metadata": {},
   "source": [
    "La condition d'arrêt de la boucle est bien `d < g`.\n",
    "\n",
    "_Initialisation :_ `g = 0` et `d = len(L)-1`  \n",
    "> les deux invariants sont clairement vrais\n",
    "\n",
    "_Hérédité :_ À chaque étape de la boucle, on sait que `x` est ne peut se trouver que dans `L[g-1,d]`\n",
    ">  on a soit `g` qui augmente, soit `d` qui diminue, le premier invariant est vrai\n",
    "> si `L[k] <= x` alors `g = k + 1` ou encore `g - 1 = k` et donc `x` est ne peut se trouver que dans `L[g-1,d]`\n",
    "> sinon `x < L[k]` ou encore `x <= L[k-1]` alors `d = k - 1` et donc `x` est ne peut se trouver que dans `L[g-1,d]`\n",
    "\n",
    "_Dernière étape :_ En sortant de la boucle, on a `d < g` ou encore `d <= g-1` : \n",
    "> `x` peut éventuellement être à l'indice `d`\n",
    "\n",
    "\n",
    "\n",
    "\n"
   ]
  },
  {
   "cell_type": "markdown",
   "metadata": {},
   "source": [
    "**3.** La tester sur la liste de l’exercice 1 et les différentes valeurs proposées."
   ]
  },
  {
   "cell_type": "code",
   "execution_count": 4,
   "metadata": {},
   "outputs": [],
   "source": [
    "## Quelques test ou assert\n",
    "L = [2, 3, 5, 7, 11, 13, 17, 19]\n",
    "assert recherche_dichotomique(L, 5) == 2\n",
    "assert recherche_dichotomique(L, 2) == 0\n",
    "assert recherche_dichotomique(L, 19) == 7\n",
    "assert recherche_dichotomique(L, 6) == None"
   ]
  },
  {
   "cell_type": "markdown",
   "metadata": {},
   "source": [
    "**4.** Générer par compréhension une liste de `1000` valeurs, la trier par la méthode de votre choix, puis utiliser votre fonction recherche_dichotomique pour savoir si le nombre `666` est présent dans cette liste."
   ]
  },
  {
   "cell_type": "code",
   "execution_count": 10,
   "metadata": {},
   "outputs": [
    {
     "name": "stdout",
     "output_type": "stream",
     "text": [
      "663\n"
     ]
    }
   ],
   "source": [
    "## On import la méthode randint de la bibliothèque random\n",
    "from random import randint\n",
    "n = 1000\n",
    "## On génère par compréhension une liste de 1000 entiers \n",
    "L = [randint(1, n) for i in range(n)]\n",
    "## On trie la liste\n",
    "L.sort()\n",
    "print(recherche_dichotomique(L, 666))"
   ]
  },
  {
   "cell_type": "markdown",
   "metadata": {},
   "source": [
    "**5.** Combien de valeur sont examinées lors de l’appel à `recherche_dichotomique([0,1, 1, 2, 3, 5, 8, 13, 21], 7)` ?"
   ]
  },
  {
   "cell_type": "markdown",
   "metadata": {},
   "source": [
    "--- Raisonnements et réponse\n",
    "\n",
    "Nombre d'étapes pour `L = [0, 1, 1, 2, 3, 5, 8, 13, 21]` et  `x = 7` :\n",
    "1. `g = 0` et `d = 8`  \n",
    "> `k = 4` et le test `L[4] <= 7` est vrai \n",
    "2. `g = 5` et `d = 8`  \n",
    "> `k = 6` et le test `L[6] <= 7` est faux \n",
    "3. `g = 5` et `d = 5`  \n",
    "> `k = 5` et le test `L[5] <= 7` est vrai \n",
    "4. `g = 6` et `d = 8`, la boucle s'arrête et 3 valeurs ont été testées"
   ]
  },
  {
   "cell_type": "markdown",
   "metadata": {},
   "source": [
    "**6.** Donner un exemple d’exécution de recherche_dichotomique où le nombre de valeurs examinées est exactement quatre."
   ]
  },
  {
   "cell_type": "markdown",
   "metadata": {},
   "source": [
    "--- Raisonnements et réponse\n",
    "\n",
    "Étant donné qu'il y a 8 valeurs dans la liste, si la valeur à cherchée n'est pas dans la liste, il y aura exactement 4 valeurs à examiner :\n",
    "\n",
    "Nombre d'étapes pour `L = [0, 1, 1, 2, 3, 5, 8, 13, 21]` et  `x = 22` :\n",
    "1. `g = 0` et `d = 8`  \n",
    "> `k = 4` et le test `L[4] <= 22` est vrai \n",
    "2. `g = 5` et `d = 8`  \n",
    "> `k = 6` et le test `L[6] <= 22` est vrai \n",
    "3. `g = 7` et `d = 8`  \n",
    "> `k = 7` et le test `L[7] <= 22` est vrai \n",
    "4. `g = 8` et `d = 8`  \n",
    "> `k = 8` et le test `L[8] <= 22` est vrai \n",
    "4. `g = 9` et `d = 8`, la boucle s'arrête et 4 valeurs ont été testées"
   ]
  },
  {
   "cell_type": "markdown",
   "metadata": {},
   "source": [
    "## D - Efficacité et notion informel de complexité logarithmique\n",
    "**Exercice 3**\n",
    "\n",
    "Modifier la fonction `recherche_dichotomique` pour afficher le nombre total de tours de boucle effectués par l’algorithme. Lancer le programme sur des tableaux de tailles différentes : celles indiquées dans le tableau ci-dessous que vous compléterez. On pourra par exemple chercher la valeur 1 dans un tableau ne contenant que des 0, ce qui correspond au pire cas."
   ]
  },
  {
   "cell_type": "code",
   "execution_count": 13,
   "metadata": {},
   "outputs": [],
   "source": [
    "def recherche_dichotomique_tours(L : list, x : int or float) -> int:\n",
    "    \"\"\"renvoie une position de x dans le tableau L, supposé trié,\n",
    "    et None si x ne s'y trouve pas\"\"\"\n",
    "    g = 0\n",
    "    d = len(L) - 1\n",
    "    n = 0\n",
    "    while g <= d:\n",
    "        n = n + 1\n",
    "        k = (g+d)//2\n",
    "        if L[k] <= x:\n",
    "            g = k + 1\n",
    "        else:\n",
    "            d = k - 1\n",
    "    return n"
   ]
  },
  {
   "cell_type": "code",
   "execution_count": 15,
   "metadata": {},
   "outputs": [],
   "source": [
    "## Quelques tests\n",
    "assert recherche_dichotomique_tours([0, 1, 1, 2, 3, 5, 8, 13, 21], 7) == 3\n",
    "assert recherche_dichotomique_tours([0, 1, 1, 2, 3, 5, 8, 13, 21], 22) == 4"
   ]
  },
  {
   "cell_type": "code",
   "execution_count": 19,
   "metadata": {},
   "outputs": [
    {
     "name": "stdout",
     "output_type": "stream",
     "text": [
      "Saisir la taille du tableau (-1 pour arrêter les tests) : 8\n",
      "Pour un tableau de taille 8, il faut 4 tours de boucle\n",
      "Saisir la taille du tableau (-1 pour arrêter les tests) : 10\n",
      "Pour un tableau de taille 10, il faut 4 tours de boucle\n",
      "Saisir la taille du tableau (-1 pour arrêter les tests) : 100\n",
      "Pour un tableau de taille 100, il faut 7 tours de boucle\n",
      "Saisir la taille du tableau (-1 pour arrêter les tests) : 1000\n",
      "Pour un tableau de taille 1000, il faut 10 tours de boucle\n",
      "Saisir la taille du tableau (-1 pour arrêter les tests) : 1000000\n",
      "Pour un tableau de taille 1000000, il faut 20 tours de boucle\n",
      "Saisir la taille du tableau (-1 pour arrêter les tests) : 10000000\n",
      "Pour un tableau de taille 10000000, il faut 24 tours de boucle\n",
      "Saisir la taille du tableau (-1 pour arrêter les tests) : -1\n",
      "Pour un tableau de taille -1, il faut 0 tours de boucle\n"
     ]
    }
   ],
   "source": [
    "n = 0\n",
    "while n != -1:\n",
    "    n = int(input(\"Saisir la taille du tableau (-1 pour arrêter les tests) : \"))\n",
    "    L = [0 for i in range(n)]\n",
    "    k = recherche_dichotomique_tours(L, 1)\n",
    "    print(f\"Pour un tableau de taille {n}, il faut {k} tours de boucle\")"
   ]
  },
  {
   "cell_type": "markdown",
   "metadata": {},
   "source": [
    "**Le dernier test ne peut se faire, le tableau créé est trop gros 1Go !!!**"
   ]
  }
 ],
 "metadata": {
  "kernelspec": {
   "display_name": "Python 3",
   "language": "python",
   "name": "python3"
  },
  "language_info": {
   "codemirror_mode": {
    "name": "ipython",
    "version": 3
   },
   "file_extension": ".py",
   "mimetype": "text/x-python",
   "name": "python",
   "nbconvert_exporter": "python",
   "pygments_lexer": "ipython3",
   "version": "3.7.4"
  },
  "latex_envs": {
   "LaTeX_envs_menu_present": true,
   "autoclose": false,
   "autocomplete": true,
   "bibliofile": "biblio.bib",
   "cite_by": "apalike",
   "current_citInitial": 1,
   "eqLabelWithNumbers": true,
   "eqNumInitial": 1,
   "hotkeys": {
    "equation": "Ctrl-E",
    "itemize": "Ctrl-I"
   },
   "labels_anchors": false,
   "latex_user_defs": false,
   "report_style_numbering": false,
   "user_envs_cfg": false
  }
 },
 "nbformat": 4,
 "nbformat_minor": 2
}
