{
 "cells": [
  {
   "cell_type": "markdown",
   "metadata": {},
   "source": [
    "# Évaluation du Mini-Projet Sudoku"
   ]
  },
  {
   "cell_type": "markdown",
   "metadata": {},
   "source": [
    "## Hugo DESSAUD"
   ]
  },
  {
   "cell_type": "code",
   "execution_count": 1,
   "metadata": {},
   "outputs": [],
   "source": [
    "grille = [[0, 2, 9, 0, 6, 0, 8, 7, 5],\n",
    "          [4, 0, 0, 0, 7, 0, 6, 0, 3],\n",
    "          [3, 0, 0, 0, 0, 5, 1, 0, 4],\n",
    "          [0, 0, 0, 0, 0, 1, 0, 8, 0],\n",
    "          [8, 0, 0, 2, 0, 0, 9, 5, 0],\n",
    "          [5, 9, 0, 0, 0, 8, 0, 6, 1],\n",
    "          [0, 0, 6, 3, 5, 7, 2, 0, 0],\n",
    "          [0, 1, 0, 0, 0, 0, 0, 0, 6],\n",
    "          [0, 8, 0, 6, 0, 2, 0, 4, 0]]"
   ]
  },
  {
   "cell_type": "code",
   "execution_count": 3,
   "metadata": {},
   "outputs": [
    {
     "name": "stdout",
     "output_type": "stream",
     "text": [
      "[(0, 0), (0, 3), (0, 5), (1, 1), (1, 2), (1, 3), (1, 5), (1, 7), (2, 1), (2, 2), (2, 3), (2, 4), (2, 7), (3, 0), (3, 1), (3, 2), (3, 3), (3, 4), (3, 6), (3, 8), (4, 1), (4, 2), (4, 4), (4, 5), (4, 8), (5, 2), (5, 3), (5, 4), (5, 6), (6, 0), (6, 1), (6, 7), (6, 8), (7, 0), (7, 2), (7, 3), (7, 4), (7, 5), (7, 6), (7, 7), (8, 0), (8, 2), (8, 4), (8, 6), (8, 8)]\n"
     ]
    }
   ],
   "source": [
    "def liste_case_vide(grille:list)->list:\n",
    "    liste_case_vide = []\n",
    "    for m in range(len(grille)):\n",
    "        for n in range(len(grille)) :\n",
    "            if(grille[m][n]==0):\n",
    "                liste_case_vide.append((m,n))\n",
    "    return liste_case_vide\n",
    "\n",
    "print(liste_case_vide(grille))"
   ]
  },
  {
   "cell_type": "code",
   "execution_count": 4,
   "metadata": {},
   "outputs": [
    {
     "name": "stdout",
     "output_type": "stream",
     "text": [
      "False\n",
      "True\n"
     ]
    }
   ],
   "source": [
    "def est_dans_ligne(grille:list, i_ligne:int, valeur:int)->bool:\n",
    "    for n in range(len(grille)):\n",
    "        if (grille[i_ligne][n]== valeur):\n",
    "            return True\n",
    "    return False\n",
    "\n",
    "print(est_dans_ligne(grille, 1, 8))\n",
    "print(est_dans_ligne(grille, 0, 7))"
   ]
  },
  {
   "cell_type": "code",
   "execution_count": 6,
   "metadata": {},
   "outputs": [
    {
     "name": "stdout",
     "output_type": "stream",
     "text": [
      "True\n",
      "False\n"
     ]
    }
   ],
   "source": [
    "def est_dans_colonne(grille:list, i_colonne:int, valeur:int)->bool:\n",
    "    for n in range(len(grille)):\n",
    "        if (grille[n][i_colonne]== valeur):\n",
    "            return True\n",
    "    return False\n",
    "\n",
    "print(est_dans_colonne(grille, 0, 4))\n",
    "print(est_dans_colonne(grille, 7, 1))"
   ]
  },
  {
   "cell_type": "code",
   "execution_count": 7,
   "metadata": {},
   "outputs": [
    {
     "name": "stdout",
     "output_type": "stream",
     "text": [
      "True\n",
      "False\n"
     ]
    }
   ],
   "source": [
    "def liste_blocs(grille:list)->list:\n",
    "    liste_blocs = []\n",
    "    for bloc in range(9):\n",
    "        bloc_list = []\n",
    "        coordonnéesX = bloc * 3 % len(grille)\n",
    "        coordonnéesY = bloc * 3 // len(grille) * 3\n",
    "        for x in range(coordonnéesX, coordonnéesX+3):\n",
    "            for y in range(coordonnéesY,coordonnéesY+3):\n",
    "                bloc_list.append((x,y))\n",
    "        liste_blocs.append(bloc_list) #ne pas confondre liste_blocs et bloc_list : bloc_list ne correspond qu'à un seul bloc\n",
    "    return liste_blocs\n",
    "\n",
    "def numero_bloc_case(x:int,y:int)->int: #donne le numéro du bloc qui contient la case (x,y)\n",
    "    liste = liste_blocs(grille)\n",
    "    for n in range(len(liste)):\n",
    "        for i in range(9):\n",
    "            if(liste[n][i]== (x,y)):\n",
    "                bloc = n\n",
    "                return bloc\n",
    "\n",
    "def est_dans_bloc(grille:list,valeur:int,bloc:int)->bool:\n",
    "    coordonnéesX = bloc * 3 % len(grille)\n",
    "    coordonnéesY = bloc * 3 // len(grille) * 3\n",
    "    for x in range(coordonnéesX, coordonnéesX+3):\n",
    "        for y in range(coordonnéesY,coordonnéesY+3):\n",
    "            if grille[x][y]== valeur:\n",
    "                return True\n",
    "    return False\n",
    "\n",
    "print(est_dans_bloc(grille, 3, 0))\n",
    "print(est_dans_bloc(grille, 3, 1))\n"
   ]
  },
  {
   "cell_type": "code",
   "execution_count": 10,
   "metadata": {},
   "outputs": [
    {
     "name": "stdout",
     "output_type": "stream",
     "text": [
      "[2, 7]\n"
     ]
    }
   ],
   "source": [
    "def liste_candidats_case(grille:list, x:int, y:int )->list:\n",
    "    \n",
    "    listCandidats = [1,2,3,4,5,6,7,8,9]\n",
    "    \n",
    "    for n in range(1,10):\n",
    "        \n",
    "        if(est_dans_ligne(grille, x, n)==True):\n",
    "            if(listCandidats[listCandidats.index(n)] == n):\n",
    "                del listCandidats[listCandidats.index(n)];\n",
    "                \n",
    "        elif(est_dans_colonne(grille, y, n)==True):\n",
    "            if(listCandidats[listCandidats.index(n)] == n):\n",
    "                del listCandidats[listCandidats.index(n)];\n",
    "                \n",
    "        elif(est_dans_bloc(grille, n, numero_bloc_case(x,y))==True): \n",
    "            if(listCandidats[listCandidats.index(n)] == n):\n",
    "                del listCandidats[listCandidats.index(n)];\n",
    "         \n",
    "    return listCandidats\n",
    "\n",
    "print(liste_candidats_case(grille, 5, 0))"
   ]
  },
  {
   "cell_type": "code",
   "execution_count": 12,
   "metadata": {},
   "outputs": [
    {
     "name": "stdout",
     "output_type": "stream",
     "text": [
      "{'00': [1], '03': [1, 4], '05': [3, 4], '11': [5], '12': [1, 5, 8], '13': [1, 8, 9], '15': [9], '17': [2, 9], '21': [6, 7], '22': [7, 8], '23': [8, 9], '24': [2, 8, 9], '27': [2, 9], '30': [2, 6, 7], '31': [3, 4, 6, 7], '32': [2, 3, 4, 7], '33': [4, 5, 7, 9], '34': [3, 4, 9], '36': [3, 4, 7], '38': [2, 7], '41': [3, 4, 6, 7], '42': [1, 3, 4, 7], '44': [3, 4], '45': [3, 4, 6], '48': [7], '52': [2, 3, 4, 7], '53': [4, 7], '54': [3, 4], '56': [3, 4, 7], '60': [9], '61': [4], '67': [1, 9], '68': [8, 9], '70': [2, 7, 9], '72': [2, 3, 4, 5, 7], '73': [4, 8, 9], '74': [4, 8, 9], '75': [4, 9], '76': [3, 5, 7], '77': [3, 9], '80': [7, 9], '82': [3, 5, 7], '84': [1, 9], '86': [3, 5, 7], '88': [7, 9]}\n"
     ]
    }
   ],
   "source": [
    "def Dico_candidats(grille:list)->dict:\n",
    "    dico = {}\n",
    "    liste = liste_case_vide(grille)\n",
    "    for i in range(len(liste_case_vide(grille))):\n",
    "        dico[convertTuple(liste[i])] = liste_candidats_case(grille, liste[i][0], liste[i][1])\n",
    "    return dico\n",
    "\n",
    "def convertTuple(tup:tuple)->str: \n",
    "    converted = \"\"\n",
    "    for W in range(len(tup)):\n",
    "        n = tup[W]\n",
    "        n = n.__str__()\n",
    "        converted += n\n",
    "        n = \"\"\n",
    "    return converted\n",
    "\n",
    "print(Dico_candidats(grille))"
   ]
  },
  {
   "cell_type": "code",
   "execution_count": 13,
   "metadata": {},
   "outputs": [
    {
     "name": "stdout",
     "output_type": "stream",
     "text": [
      "0 2 9  | 0 6 0  | 8 7 5\n",
      "4 0 0  | 0 7 0  | 6 0 3\n",
      "3 0 0  | 0 0 5  | 1 0 4\n",
      "- - - - - - - - - - - - - \n",
      "0 0 0  | 0 0 1  | 0 8 0\n",
      "8 0 0  | 2 0 0  | 9 5 0\n",
      "5 9 0  | 0 0 8  | 0 6 1\n",
      "- - - - - - - - - - - - - \n",
      "0 0 6  | 3 5 7  | 2 0 0\n",
      "0 1 0  | 0 0 0  | 0 0 6\n",
      "0 8 0  | 6 0 2  | 0 4 0\n"
     ]
    }
   ],
   "source": [
    "def print_board(bo):\n",
    "    for i in range(len(bo)):\n",
    "        if i % 3 == 0 and i != 0:\n",
    "            print(\"- - - - - - - - - - - - - \")\n",
    "\n",
    "        for j in range(len(bo[0])):\n",
    "            if j % 3 == 0 and j != 0:\n",
    "                print(\" | \", end=\"\")\n",
    "\n",
    "            if j == 8:\n",
    "                print(bo[i][j])\n",
    "            else:\n",
    "                print((bo[i][j]).__str__() + \" \", end=\"\")\n",
    "                \n",
    "print_board(grille)"
   ]
  },
  {
   "cell_type": "code",
   "execution_count": 14,
   "metadata": {},
   "outputs": [
    {
     "name": "stdout",
     "output_type": "stream",
     "text": [
      "NON RÉSOLU\n",
      "0 2 9  | 0 6 0  | 8 7 5\n",
      "4 0 0  | 0 7 0  | 6 0 3\n",
      "3 0 0  | 0 0 5  | 1 0 4\n",
      "- - - - - - - - - - - - - \n",
      "0 0 0  | 0 0 1  | 0 8 0\n",
      "8 0 0  | 2 0 0  | 9 5 0\n",
      "5 9 0  | 0 0 8  | 0 6 1\n",
      "- - - - - - - - - - - - - \n",
      "0 0 6  | 3 5 7  | 2 0 0\n",
      "0 1 0  | 0 0 0  | 0 0 6\n",
      "0 8 0  | 6 0 2  | 0 4 0\n",
      "__________________________\n",
      "RÉSOLU\n",
      "1 2 9  | 4 6 3  | 8 7 5\n",
      "4 5 8  | 1 7 9  | 6 2 3\n",
      "3 6 7  | 8 2 5  | 1 9 4\n",
      "- - - - - - - - - - - - - \n",
      "6 7 4  | 5 9 1  | 3 8 2\n",
      "8 3 1  | 2 4 6  | 9 5 7\n",
      "5 9 2  | 7 3 8  | 4 6 1\n",
      "- - - - - - - - - - - - - \n",
      "9 4 6  | 3 5 7  | 2 1 8\n",
      "2 1 5  | 9 8 4  | 7 3 6\n",
      "7 8 3  | 6 1 2  | 5 4 9\n"
     ]
    }
   ],
   "source": [
    "def Resoudre(grille:list)->list:\n",
    "    solution = grille\n",
    "    dico = Dico_candidats(solution)\n",
    "    case_vide = liste_case_vide(solution)\n",
    "    print(\"NON RÉSOLU\")\n",
    "    print_board(solution)\n",
    "    print(\"__________________________\")\n",
    "    while(len(case_vide)>0):\n",
    "        for t in range(len(dico)):\n",
    "            if(len(dico[convertTuple(case_vide[t])]) == 1):\n",
    "                coo = convertTuple(case_vide[t])\n",
    "                solution[int(coo[0])][int(coo[1])] = dico[convertTuple(case_vide[t])][0] #remplace la case vide par son candidat\n",
    "        case_vide = liste_case_vide(solution) #actualisation du dictionnaire\n",
    "        dico = Dico_candidats(solution)\n",
    "    print(\"RÉSOLU\")\n",
    "    print_board(solution)\n",
    "    \n",
    "Resoudre(grille)"
   ]
  },
  {
   "cell_type": "markdown",
   "metadata": {},
   "source": [
    "## Mattéo ALLEVARD"
   ]
  },
  {
   "cell_type": "code",
   "execution_count": 15,
   "metadata": {},
   "outputs": [],
   "source": [
    "grille = [((0),(0),(0),         (0),(2),(0),       (7),(0),(8)),\n",
    "          ((5),(2),(0),         (0),(0),(0),       (0),(6),(0)),\n",
    "          ((1),(0),(4),         (0),(0),(9),       (0),(5),(0)),\n",
    "\n",
    "          ((0),(0),(0),         (1),(7),(8),       (0),(0),(6)),\n",
    "          ((0),(0),(0),         (0),(4),(0),       (8),(0),(0)),\n",
    "          ((0),(0),(0),         (9),(5),(6),       (0),(0),(0)),\n",
    "\n",
    "          ((6),(0),(0),         (0),(0),(5),       (2),(0),(7)),\n",
    "          ((0),(9),(0),         (0),(0),(3),       (0),(8),(0)),\n",
    "          ((0),(3),(2),         (7),(0),(4),       (5),(9),(0))]"
   ]
  },
  {
   "cell_type": "code",
   "execution_count": 20,
   "metadata": {},
   "outputs": [
    {
     "name": "stdout",
     "output_type": "stream",
     "text": [
      "4 True pour le block 8\n"
     ]
    },
    {
     "data": {
      "text/plain": [
       "True"
      ]
     },
     "execution_count": 20,
     "metadata": {},
     "output_type": "execute_result"
    }
   ],
   "source": [
    "def est_dans_block(grille : list , x : int , y : int)-> bool:\n",
    "    #x = eval(input(\"met içi se que tu cherche: \"))\n",
    "    #y = eval(input(\"donne içi dans quelle block chercher\"))\n",
    "    liste_des_block = []\n",
    "    for h in range(3):\n",
    "        for r in range(3):\n",
    "            blocklist = []\n",
    "            for w in range(3):\n",
    "                for m in range(3):\n",
    "                    blocklist.append(grille[3*h+w][3*r +m])\n",
    "            liste_des_block.append(blocklist)\n",
    "    for b in range(len(liste_des_block)):\n",
    "        if x == liste_des_block[y-1][b]:\n",
    "            print( x,x == liste_des_block[y-1][b] ,\"pour le block\",y  )\n",
    "            return True\n",
    "    print( x,x == liste_des_block[y-1][b] ,\"pour le block\",y  )\n",
    "    return False\n",
    "\n",
    "est_dans_block(grille, 4, 8)"
   ]
  },
  {
   "cell_type": "code",
   "execution_count": null,
   "metadata": {},
   "outputs": [],
   "source": []
  }
 ],
 "metadata": {
  "kernelspec": {
   "display_name": "Python 3",
   "language": "python",
   "name": "python3"
  },
  "language_info": {
   "codemirror_mode": {
    "name": "ipython",
    "version": 3
   },
   "file_extension": ".py",
   "mimetype": "text/x-python",
   "name": "python",
   "nbconvert_exporter": "python",
   "pygments_lexer": "ipython3",
   "version": "3.7.4"
  },
  "latex_envs": {
   "LaTeX_envs_menu_present": true,
   "autoclose": false,
   "autocomplete": true,
   "bibliofile": "biblio.bib",
   "cite_by": "apalike",
   "current_citInitial": 1,
   "eqLabelWithNumbers": true,
   "eqNumInitial": 1,
   "hotkeys": {
    "equation": "Ctrl-E",
    "itemize": "Ctrl-I"
   },
   "labels_anchors": false,
   "latex_user_defs": false,
   "report_style_numbering": false,
   "user_envs_cfg": false
  }
 },
 "nbformat": 4,
 "nbformat_minor": 2
}
