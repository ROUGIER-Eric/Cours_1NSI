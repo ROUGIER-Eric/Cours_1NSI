{
 "cells": [
  {
   "cell_type": "markdown",
   "metadata": {},
   "source": [
    "# Rappels de seconde sur les algorithmes et le langage Python"
   ]
  },
  {
   "cell_type": "markdown",
   "metadata": {},
   "source": [
    "## I - Affectations et variables\n",
    "### Définition\n",
    "> Un algorithme est une suite finie d'opérations élémentaires, à appliquer dans un ordre déterminé, à des données.\n",
    "\n",
    "Dans un algorithme, on utilise des **variables**. Elles représente des nombres ou d'autres objets (listes, chaînes de caractère, ...) et on utilise une lettre ou un mot pour les désigner. On modifie leur valeur lors d'**affectations**.\n",
    "\n",
    "On peut se représenter mentalement une variable comme une boîte pouvant contenir des objets et munit d'une étiquette : son nom. \n",
    "\n",
    "Ici deux variables $a$ et $b$."
   ]
  },
  {
   "cell_type": "markdown",
   "metadata": {},
   "source": [
    "La variable $a$ est vide et la variable $b$ pointe vers le nombre la case mémoire contenant le nombre entier $3$ : <img src=\"data:image/jpg;base64,iVBORw0KGgoAAAANSUhEUgAAAMYAAABvCAYAAAHAj4/tAAAACXBIWXMAAA7EAAAOxQGMMD9aAAAbD0lEQVR4nO2dB1zUSBfA3y67dKSDNEGkCBaKoAiCHRXbKeXEdmDHU1Sw3IkNK3J0FEHwUNFDQbC3U1RAEMT7QLFXQAULCNLr7pcsriIusC1bMP/fL5vsJJP3Ji8vM5lMIVGpVMAa0r59+zwQ9jHa2dk+loRwegI6NiPGpI0POr1to7nUFcyEZKam2GYwEMBVIYhtCQhUdI2ZELogRuE0IagGrWsiciDluwM6Mzw9HorFwiNwJ3o2Q4Ek9CTs3kHtNfcfZRi5dobFkvbHdXi5Rq1MrLwW4tyDFaGogLS7b6fZmWicZEoIKsD7YB410M2U4XXuCFTAh/JarZXhN879s8nBpFMhqIC2a1aE7T79tKgueRp498qmpmU+4O7d1ZZTd5Er7T4EuSH+xk6Ic8S/oCVBgE5TwqotOozrZgokgX4Kd/QIYbSPKzahe36njxVOoT8cO9rPxadwCxFzIQDEjlMSERGxFCGC9o9AQFX6unPAgAH5zD6FO4OUn58/oG2AW1A65aCXbYdJp8PIyElpz5Y42ulH/iCkfQAqYOm+bGqExxCWnREVsDTyNjViyeDv4jK0CSpg8sYL1F/teq+ePdYokBVBqID2T+8ODW/QRx1y3zYE5B7MC0D/s/qYafv07vTuCnK3Rn7rwCs2l5Xz/0CnQrxiM9k+cfpGc7Dd9r/OhXD8FHb7ViDhyVOYF9Ce9OgGq6UiduOhdJZLsBsPsxyeUwgE7WYqtZBp/QQ2IQBFIqwcLVAJObBz5doFPqG7HT22RrN66wlUQuavD/FHF3bikrpyVufN554m+k4yaB/OyUt3V1d7RfiNf0OXj7BnJV6XFqEnYtXf/6N6TdI30FKRecaMspxAT0R8ypPVMefyN6UEO3X5qsf0rRU8z5x2NeYEpFLl5aQhbMEgtjMzZnEdbRiALo+Lyi2irxXmbHI2UpKVEitjdCzLPqKiJEtb0wsh7eEkt+6Ivr3k7wAUwtbER6WN1R+BIKUM5C9S0Be4nP2zOi8IdcX5ZWYwcU8uZKw1Axt/zgpLzLJnuT3DghlHCXnSZAcTm99BdqkFPDtXAG6TdDg5HRPUwJiA/2hbQe4zkQT983UPRwnxigptXf8dzclpWEAKBip+kd0mESgsJwQLH+BIrpspbdUtSr8ClauzCwmLojRWcXlSv8wvBCcRdXekCPLjPw01kn1wK++lGSuWEpxESFjUUOtLxdDNieKEt6xEFZxEIOR4amwZHF68+WxBXX9W4glUIizD3m6hhsGW9AUqfrUxHzZIAjQzE09gEtFU1yROliDXo9vzD3xc9jAG1jMbV2ASQRanNBppyRc+KRNRraJQpRHFKF3HakVgEgEEMcqj1+Xa7EQVnERwwHffOdvS/rslt+modl5KuQ/UfHzB0rlInWUqViLE5qx9rly3VlcZme2y43Xpe36VYPZ8nSqIJmDcmuTSGSMNg90d+u1g9qScgiZglv91ytG1I7v8HILS5VW+/Nd0pSWBKRlnsgrXnNzqIMexhkyCJgD93LJn8WASkUho6exYpm6VSO/RNgcuPPBFKwwCfjMlEgjAk5cQ9HPOgrAMqqYM8fAW96G/dXQc0/f7fId+m/Oef0xZfSiP8v5NSd6RDRPMuKNq58R42hDm/HWD6rjpvH3S1olqjI5hyWlN9ZTTdNVlFX0ToGxxeEZ51HIbee6o2jlxa0YQnLb9S0Ur9+j1Ym1h+cnjm/CQVqklLSMlx6g+Cov3cMtFR6l21v1o27N89lN76g/+Tp7QZXb/7AwHr9i478I4SkRY4Hnw9J4IQUv/AK8IP46UY45KGPXXwR9C2U5E9noz8NyZixTT3sGvwbxIAMDLUHswWZEFjQ9Wg2i/gK/hbCfCcIQRbR00fwJ4RcUjW305VrIrTuU1gBeyPhucAo4x38LZToScfWtNHKcfsFlB5sv6ff8/vwsXKsde+OWCLV3p8l24UFRlotX5ne0XKkt0RLeoi+0udIs7qrtAa9qCtmVD27Rxo9l4V/BaHp2u2kAKgjzcMxhCIVw5GuoSEB7jeSX7oTUVuUw20xaeTT4eMUOFDLVYScWNwRAideysVcfR5VsYhaBMINSXQn8ilZpPxkIqbgwmqC0rVAhcPimwFEDULvzkZqzk4MZgAklF7U+TJ409vyn+vltzVZUkVnJwYzCJ6cygE2/rb7pqzDePf7aaukufDJ+5LQM3BgMyFij7DTtQuk5G0+jdYONe+R+f3da996q8D7rP+1qZExaGQMGNwQCbmI9/UGPgD17LxY0hQHw1xncdmTpB08IR3txJ4ljw9u3bN/DypY8Os52uWo9t/abYvmstVrDd3Rb9OBK0bMQU24EaZ7FQjNtw8ubtsO5ksUkf5Vu7Fg1z5KZO7WH7MUWvRh2xIrFGlCxCPbl9srqUOLmSe6oJDhd2T1NH1xtiMhNynnyYlLBlglZHTd45geM840aosxS6dt587oWWjobuvfwXFVeDnHjy/ZXXbF9gTfv6EHU2f0fem9r1n96XPj6+ZaIRt87PtQw80XcSrei35WBDvGf0HWpjUwsokpsSdiwc9iu3ZAgKiycP8EFWPuezXs1bvDeLWlVZ/XmDq9lYYx3FHE7Oy/XS1BY3K1dk5Xo5p3BO4q23h70P5rl8eF9WvnSSsevQfmqXuS2Pn0y06v03utx58n60f/LD24oKMnD37vPyq8FOCuycD7Oi7ThL7Th0efOxSs8rqvTZiZz3l5AFHj8u+JC4ZaKepDi5CivZvMbCUDXloKEqoeh9Vd+1JZ8eoS1MqqtqqsaZqKyZbqcfxex5MH/PCD7/4pmWptLX/3376qhsPPaA6YyeX91V2MFx45lH9OY30jJSMhkvayIzXub9MIxAW+hdxNBt/KUPQ6ryjkDGhUh4+KwGPGNzu7zYfDQGFc6uNocKo1Uw3LgWTp7LgZbie+AVy1EeKFDImM6GktBAELeJYepC88UYLcXREOoTAbOickFVtDWMvD8KFGef54c6mIGmsxxZkzJWwCObcLgbMg/kF16GcRYqDI/nizGu7ooAkJ/51RCND/8AtOuFx2h1iF3gDO4xifxQi+scRm441CuWLhhE+680Rg3i9o6DMcgji9FICXwxxrjwXOgV/zsEuZuBwcSdMMlpK+jp5kPourWwopsYAskxaF5BNwRQP0PchRIwWX+ToSFQ+JZnGLnuRZZv/6ds7F6PKLTlo9eB65C8eRy8LhMFe++4LttdYm4MtOjGEV96PgsDMpKiFUh65dqGKY0LArRg/7HkLW1pT9vOFJgbo6t2md2JayHOHNXJ4e8ZAgTe1laAwD1DgMCNIUDgxhAgSMLQOptThKWlPe4ZAgRuDAECNwYD6kruqe7YtnNDXMKZX4vK6pRl1I3e/xl4aN2fMywPYSkXNwYD/rQ0uRj6Fsy0+1k8Hmsmfe+/lBu2610HH1w/2yKK0pwjgY5VjoVc3BgMCHlDNQ9pF1Z2ce5oJYe4q8Evmod49SFlYSEXNwaTKFo55wHEQcnnZnmsLhtujK6gNBHvXT9mZzlm7jUAMdhhLo5ZcyPcGB1Sh7wSSX5t8aw6xudmyZXtdljlFyi4MTpE4tsQoM1lZBsFpUIiIYBSTaknSxGYG1WQVXBjMANJsSmjskqTQJBp6b0o4+iHaBtMmqzixmAaSdrj6eOtWwMBbDCRgBvjB6gEKhCgfd5QkbbGCl1bLnU6hpVk3Bg/UEsgEqRpIwcOGmqXLS/WWJdyI2tE6wyB/ZqylupsxUoybowfkKK8yz0/wOsP390nLqdNaERMoD1w+IMtobHebiN6Y9qKHjcGA1RNHe4fveQw8SiP5eLGECBwYwgQuDEEiK/GYHpSSoke0FwnnJ1ame3rTkfLyhVeZ8WzLW/Dhg3bMf3s2t/JDype3YaCmwdZjSp0lOSd42jsd2lp6WpWju907PaOOHDedlPk6TG+wtJ0k5N5vusbmyVtAWpu7p0hKUYWqeO2bm1hK8+YP7H/Vi0Vmae2yxOaj/iM76fds8cTbismKIiLkmozI1zFrJfGNwQvHzFp2AANzJrLs52B21tqH1NVkHztHZ39uI+y+KndS2yncVMxQYJMIjZmR84kjfZOqjPUlMuO9B5ji4UcjkpTJn2UM4IXWxmsibn9ZOTKxGp0KkYigcCbUU94DDq5wrUgJzH7Ncl1I1ckVl8PdZbmtgyOi7bo/JtRK4Yp/+Z/7cOsXSk1y6cYT7fur36RG8oJGmhfiisB08VHrUpqcNxy8XPY77ZmGsrSL7l1fq68Z6CDmiRssJeauul81fGskgvhyXkP4jc5sDRHlTBxLdhRbLhnYqPvsfznZlqSOz1+MdnAjfNy7aVPlCxSf2HnFNGxq5MbTAbo9puw9tSnE1sn6nTXkXZSw5xF7ZYnNEpL6/s4rD0574J/68g7nMDVN3DUja8GThcdviKxycJMX375vuzSkcYKPnPGGf/FTTmCQlq4C80gloMM1BzWnSo9uX2yFifFX0yqQ1JDnclIsbdp8CADcm5xg/+R1UlrLgc4Mu78LOR8MUgDYhDFJWE3S+bb681it/iLWd1UergLebhnQr2FuYFY//59lF18L5YEegyzRTL851jJ5BeIQdA8BEmrvmxCVsm5Y1cfX92zavRYVs+DaUVhapiL+FjvpMqBA/rIaGmr9dyV9PCxslhLvO886zlYyuUHSB4iPnrViWpTEz0pkFccg2yXI0V9ljpcYl5reyXQsce0DWff9u6jqS4hISZSDTAbUXTS1SAnBV7NYcYrkIsvPW7NyYr+/XrLIkaRm73z38LdC61HMlv8xdQY9Bm3dPW0vgtHFUXnYusqftvhfwSd+sYWWZ9/8lFDfA1TVVfpFXT+eaczPbYdwgn/noEl1Eb4/K4AKqolQVtfs8vDcWNgRjNkJIZA9sV4kLH/Bxbqdx0DNwZmkMDGZQnNGEPHGzIZg080vT4O4ZsCYeKa/fAoyh0+ITm73PI0mG4q03VkIaGluHUuFEN5pmaj5Y8xqBVXEUP4waIDuSCN6GkYmABBC11gTN/uYwiUwoQDyK8hMDsNDV+McXjVGgD5WTRDoDS9PEJba4rzQxvsSL3bAEAogbh9+8BuQD0kHbgKK2PPQ0d+wntjNBcAOm61nvuSr0GPjp0BkP6lQyWFk0ra4F/9VySDvYkiLYR84DCczq2EaWY9GMbgvTFaPtFWQwy/fZtJfwXQ090DWt5GQh55AQxSEf5yBT2/GPnFEACN0IT8VhSVAgiMMcQG0lZVjVRQFSXA09jJgDgzWA5SgVu+0TDUf0nn8YWEt6fRXspG3/KLqlTaytxGu8M4fLgFSeAVmQgHvS3gDBjA3IAzMG9AOMQtM4Nhm9M7HL9P2GiqrgMwcP/6/0UsOomZMpgodZxC/jwPxPTAbc9/3/5beMLyWE++qIIV2s6uACHZyNZYoNbcQfKKOnCLyuw0jvA/nAUUks5qmDF5B4S5m4GK1UKkFJXbZQEFNwaGqI/2Ac/RPkwfj6kxGI1myQrCVMUuLiryma2RStuMToqpMTgdzVLY4LS6H39MCRC4MQQI3BgCBD6uLQ4OA/CnFA4OA3DHwMFhAO4YODgMINHH7KYH8GqscF7R3dPXlu6eVl6mD88xcHAYgDsGDg4DcMfAYY66O1Ir9S3T0WkTmDpex/FtyPGY35YPlrtGxHB4bKzAHQOHOUiKzdaLNh3VNRwZNHLYoHRjDZkikfY3fOMH0Zx/tjguWrxvb15BksbKIUlXV5oF3H+a7T1Mnwyf+aQ5W+COgcMc5N4NLpt8Azs9RlSl0dItIj7XcfpFF/WxuYnVoAO5fsZ+2UvGHhgmdYJHmnIF3DFwuEwd4WHMZudT1dDayF5+XPnMgVLZfFaKZXDHwGGDOkKOp97mweHFmzs+pifFYXfyjiOrh26XJ9L63QgVuGPgsAEJlIe6/m9uWcnRZqASKY215Ir3r1Tu37ln9qYOWrspK+tV6GnKvxYlQAuflWUL3DFw2IBM1XENOHPIFc4w2lv/MKjvKFPv9LBZRlFhswz2+uTdddhuIn6F11pyAu4YOFxH3HjVk1OxJxarzr6VBPCUtMP978CFOUuttUWApdHg+QnuGDjch1pOvJ2cb0//K6KgWilNpA1CIDTgjoHDBDXEjCUWvgtejx/qsWBm9PRxgy5pShJ/+C7R/OmB/IXIzfNW+SRtfQkgSQtUnPXxzPFpcxUJwvUCjjsGDhMQqWSxmubHF0JGr0AXJmJIDHR/HHooZNF80x438S/fON0UCerg0CJfaij48lsTXoE7Bg4OA3DHwMFhAO4YODgM+MExHj58aLx///5F/FAGC27evDms7f/c3Fzmmk13A7q7LXNycix51oPvxo0bI/bs2bOMWwLQ6YFRnl70g8o397l1WrZJSUkZzW8deAW3bdkWIlkczN1iaNt5cR7QXF+FhZhOuXDhggNW5yZZWVll+fn5/UEPQOeqJpPJXPwYU4P+EK4rrpn/vEzEsoc4lE02rPWXJFMruCeDeRQUFD7xQy4vwN6W7amBxhaCOMC+UPSfda/G4/1Umq5hJ+97WJ1XnRVIZmZmueiClQA6SH4eha6T05557Dpym9ah3XGEwX4vF3NPUZKIUH38EVR4Zcv2IFlSWGNTi7hHUEpq9J2PUZrKMoV7Vo4axc25hnkNz1++p9vp70OXzPvFE/7cfzMpLf/dwtra+lrEQVZMselzgNf64HAHdDrlA+vsh1AoVJF1UTdPOW46+5xMIjbNGGUY7DHVxAedNZ3fOrIC32ql0FnaU8NcJJ+9KTdZEpiSHp9eGHP46vPwutraz7uX2P7Sv7eS0HVuwUHePRAH+MvDdjKVCoTtcdmHTmW8WpVy993Kupraz4G/D59krKOYw28dmYHv1bX6mvJ3U4Kdenwor9Wc73/ltoSUVM/If19lvSrIrNJQlLy3a5GNk2IPiXf81hOHNdCJAzbOHTIX2ZwbeiI35EzmS4+gM09uv3n9vnKwkeo5nzlDFnAyPzrW8N0x6KjIS745u2uqem19k8ySoJQMooiIsbSios26g7klBQUlVQ5WOrHLppuuxd9HhI8VTmYr0eXgpYcbDr4s3ljWSJq5ICTNsbi4tN53njXb89VjicA4Bh1JcXLV4fXjB7ZQqKS1kelni958GtO/X2+Zt7VEzwXBaYvfvC1t9P510LKJQ3UP81tXHNZwG2+8HV2S058vDUksCDHuqy2bkFVy7q/juZ80FCTu7lo8zFlWSqyM33qiCJxj0BEhEpoDl9pNQLeDEnP3nM18sahf315iZsryYlcfVRw6nPJvKFJurfJbbOsoLOVWnFam2+pFoMvVO0WuvoeyDvU10FSQkJEcuSo6By0d1KElg+l2+lH81FFgHaMtXs5my9DlROqzFUh5NcC4by+SpqaKHLJLLuLyy9uvizJLNZUk722dbz0Lfx8RHsZY9IpHl6yHJRPW7Es/rd9HnWxmqk9Of14VeTz10jYipeVDwNLhU/hR7SsUjkHHabh+KLpk3i+etC7qZrKerhpZQV4G9PS1lJDdo/48lFv0qqCkZtLQ3jG/TzNdTxIhClWvsZ8VK2O1i+nhLqL5r0qtlwVfu6at3VNMU6unMrJLeVtC/pMXL4urHe309iyaPHALr6p9hcox6Fj3Vz+HXshnbypMFwVcyVTrqSih1lMBZGQkyQMH9JErqobVi0PT5xe8/khA3kc8Hax6x/FbZ5yuGdBbKTM1zEX8ZfHnAfP9/81WU1OSUFOVJ6E2ffqJssE94NqCsrLKFn8Pu2lYF5+F0jHo6GvK5V0PcZYsraxTm7vj8n0xCQkFXR1V2j45BVl5UwVZuPKw/HD89ee7qqtrG3YuGvarkbbiHT6rjdMFuuqy+ahdi0urdX/bdfmuvIKstJaGEiipKPZEFoi49PJWYeHNjxaGKpf+mDV4KRbVvkLtGJaLjn7fZbK8Bt4Ul8JQy75AJrdOcE4kEkFFTVlDBdnee/ll9vvi7JKC4nINbunA6VytOD/S3EIRH+oR//Vmr6iqh1eF78F2qDEQCAQQEyeLGBhq96wEcFsekTn+7qPXKhQKtavZuzuEkQ2F2jFQ7Kz7MX2smCiZ2EtHXQNZuCKbrdmkcbqkuYUqhq6Zsa2MrEzPYVbGbMvqyIZC7xg4PyONUHp6Jhw+9eL7YK11MH/LDJBlO+/4Bu4YOEKIKChNPQFeUylQlTYXomPRp7446DlN4opToPy8jtH8AV5fj4b/su/Au8ICqAUlULP+HexnTgGZ8jtQ8FYc1E0GgvTPe4UEn8Z8yE76UhRSmQPWxtJcO/VPZnYKNDyLhCT/aHjXLAa9ZsfDLz4+QPry6tVcGAFxSwZBOe2fJgzZlgQ2mqJ81BenYyhQnRUI9yrRbRJoO88EJS7ezT+PY1DL4fneyXDmP7RHoSqYbzwFI3TFvzuEpGgAMkhWXE4BIBotB3MN3CkEFiS3yErKb91WdIXBsqmQGhIH9+++gAaQAPn+U8F86mIYqCcH7FQb/iSOUQ8lR12+OAWA5HA/sGnnFABNUJYSDkUUdFsTLGeOAAm8IlZAQXKLbHpugVCWCk9r5sLIlVNhOC2gBSouz4C/dxyDFImx8Iv/btCVZs2YP4djNNyH3MzSL3+MwXrKQCC3P6Y6FW6cLaJtkkxWwyBabkEFSmMjAFkMiLiTCA5obnHiS26h5A5zdnmC8nd3sgiIK8nTcgpq3RVIve4B2pN7gwgLIn4OxyCrQU8lgMevkW3V4aDRo13VRUsxPIjeDIW0Vjg9wXTaUBAnIDnIaSc4fMsB5m5fDIo/x5USAtrmFmTQmfFbO6dAD3kHT8/lfBkwlwhSqnIsOQXKz2FuogaY+/wDjX5zILNgH5yIlICx481BtOI/eHBuPzyqHQa2EydAj3tJUIlkw/UlefA4ww8u55jDtG0LcacQJKgV8DqNnlvMBlsT2R8OabgfAKkFrdsEvT9hvIU8y2J+HpOLGYHV5jtg9V1gP9C0mAvjvvwbNHzDt11WydB3Ju/Uw2ESghQo6KoCPH8PBOUB0KPdHdxSchASg1Nok3H0GL0fZs+yRHJ/1sX8PI6B000QA9UZx2B6wwxITvWC2DBPGDNuIBBL0uB/yYehqEocVEf7w/wZY0GWg7sbdwwc4YMgBzpul8DLrU2Y4SDQHbGKayKE3jEM1GWu8kt2GsAYfsnuzhCJhGZ0zQvbdmRDoXYMfjf5Xmzfh5/iuy2iJGINr2zbkQ2F2jFwcLACdwwcHAbgjoGDw4D/A9NW5aLbzr+hAAAAAElFTkSuQmCC\" width= \"15%\">"
   ]
  },
  {
   "cell_type": "markdown",
   "metadata": {},
   "source": [
    "On effectue par exemple les affectations suivantes : \n",
    "  > $a\\leftarrow 4$  \n",
    "  > $b\\leftarrow a+b$"
   ]
  },
  {
   "cell_type": "markdown",
   "metadata": {},
   "source": [
    "Voici le résultat de ces affectations en mémoire : <img src=\"data:image/jpg;base64,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\" width= \"15%\">"
   ]
  },
  {
   "cell_type": "markdown",
   "metadata": {},
   "source": [
    "Les algorithmes utilisent chacun des instructions très diverses, mais on peut ranger ces instructions en quatre grandes familles, à découvrir tout au long de l'année :\n",
    "- _entrée/sortie_ ou encore _saisie/affichage_ : permettent à l'utilisateur d'interagir avec l'algorithme en précisant une valeur lors de l'utilisation et désignant le résultat obtenu ;\n",
    "- _affectation de variables_ : définissent ou modifient la valeur d'une variable ;\n",
    "- _instructions conditionnelles_ : elles permettent de tester des conditions et proposer des choix ;\n",
    "- _boucles_ : elles permettent de répéter des instructions."
   ]
  },
  {
   "cell_type": "markdown",
   "metadata": {},
   "source": [
    "### Exemple\n",
    "On considère l'algorithme de calcul suivant :\n",
    "- Choisir un nombre entier $n$.\n",
    "- Lui ajouter $4$.\n",
    "- Multiplier la somme obtenue par le nombre choisi.\n",
    "- Ajouter $4$ à ce produit.\n",
    "- Écrire le résultat $r$.\n",
    "\n",
    "Il est utile d'écrire les algorithmes dans un langage proche de celui utilisé par les ordinateurs. Ici, l'algorithme serait :\n",
    "\n",
    "> __Saisir__ $n$  \n",
    " $r\\leftarrow n+4$  \n",
    " $r\\leftarrow r\\times n$  \n",
    " $r\\leftarrow 4+r$  \n",
    " __Afficher__ $r$  "
   ]
  },
  {
   "cell_type": "markdown",
   "metadata": {},
   "source": [
    "Voici la traduction de cet algorithme en Python :"
   ]
  },
  {
   "cell_type": "code",
   "execution_count": null,
   "metadata": {},
   "outputs": [],
   "source": [
    "# Pour executer une cellule on appuie simultanément sur MAJ et ENTRER\n",
    "from metakernel import register_ipython_magics\n",
    "register_ipython_magics()"
   ]
  },
  {
   "cell_type": "code",
   "execution_count": null,
   "metadata": {},
   "outputs": [],
   "source": [
    "%%tutor --lang python3 --height 500\n",
    "# Pour voir l'exécution du script pas à pas\n",
    "n = eval(input(\"Saisir n : \"))\n",
    "r = n + 4\n",
    "r = r * n\n",
    "r = 4 + r\n",
    "print(r)"
   ]
  },
  {
   "cell_type": "markdown",
   "metadata": {},
   "source": [
    "### Exercice 1\n",
    "Écrire les scripts Python, sur le modèle précédent, correspondants aux expressions suivantes (il ne doit y a voir qu'une seule opération élémentaire par ligne) :\n",
    "\n",
    "**1)** $7(x+2)^2$ ;"
   ]
  },
  {
   "cell_type": "code",
   "execution_count": null,
   "metadata": {},
   "outputs": [],
   "source": []
  },
  {
   "cell_type": "markdown",
   "metadata": {},
   "source": [
    "**2)** $(7x+2)^2$ ;"
   ]
  },
  {
   "cell_type": "code",
   "execution_count": null,
   "metadata": {},
   "outputs": [],
   "source": []
  },
  {
   "cell_type": "markdown",
   "metadata": {},
   "source": [
    "**3)** $7x^2+2$ ;"
   ]
  },
  {
   "cell_type": "code",
   "execution_count": null,
   "metadata": {},
   "outputs": [],
   "source": []
  },
  {
   "cell_type": "markdown",
   "metadata": {},
   "source": [
    "**4)** $(7x)^2+2$ ;"
   ]
  },
  {
   "cell_type": "code",
   "execution_count": null,
   "metadata": {},
   "outputs": [],
   "source": []
  },
  {
   "cell_type": "markdown",
   "metadata": {},
   "source": [
    "**5)** $\\dfrac{7x}{2}+3$; "
   ]
  },
  {
   "cell_type": "code",
   "execution_count": null,
   "metadata": {},
   "outputs": [],
   "source": []
  },
  {
   "cell_type": "markdown",
   "metadata": {},
   "source": [
    "**6)** $\\dfrac{7x+2}{2}$."
   ]
  },
  {
   "cell_type": "code",
   "execution_count": null,
   "metadata": {},
   "outputs": [],
   "source": []
  },
  {
   "cell_type": "markdown",
   "metadata": {},
   "source": [
    "### Exercice 2\n",
    "On considère l'algorithme ci-dessous :\n",
    "\n",
    "> __Saisir__ $p$  \n",
    "$c\\leftarrow p-1$  \n",
    "$p\\leftarrow p+1$  \n",
    "$p\\leftarrow p\\times p-c\\times c$\n",
    "\n",
    "**1.** Qu'obtient-on à la fin de l'algorithme pour : $p=2$ ? pour $p=5$ ?<br>"
   ]
  },
  {
   "cell_type": "markdown",
   "metadata": {},
   "source": []
  },
  {
   "cell_type": "markdown",
   "metadata": {},
   "source": [
    "**2.** Le traduire en Python ci-dessous pour vérifier vos réponse :"
   ]
  },
  {
   "cell_type": "code",
   "execution_count": null,
   "metadata": {},
   "outputs": [],
   "source": []
  },
  {
   "cell_type": "markdown",
   "metadata": {},
   "source": [
    "### Exercice 3\n",
    "On considère l'algorithme ci-dessous :\n",
    "\n",
    "> __Saisir__ $a$ et $b$<br>\n",
    "$n\\leftarrow 10\\times a+b$<br>\n",
    "__Afficher__ $n$<br>\n",
    "$c\\leftarrow a$<br>\n",
    "$a\\leftarrow b$<br>\n",
    "$b\\leftarrow c$<br>\n",
    "$n\\leftarrow 10\\times a+b$<br>\n",
    "__Afficher__ $n$"
   ]
  },
  {
   "cell_type": "markdown",
   "metadata": {},
   "source": [
    "**1.** Utiliser un tableau, dont les entrées sont les variables de cet algorithme, afin de le tester pour $a=2$ et $b=3$."
   ]
  },
  {
   "cell_type": "markdown",
   "metadata": {},
   "source": [
    "| Variables | - | - | - | -|\n",
    "| :-: | :-: | :-: | :-: | :-:|\n",
    "| a | 2 |\n",
    "| b | 3 |\n",
    "| c |   |\n",
    "| n |   |"
   ]
  },
  {
   "cell_type": "markdown",
   "metadata": {},
   "source": [
    "**2.** Reprendre le travail avec un autre couple d'entiers compris entre $0$ et $9$."
   ]
  },
  {
   "cell_type": "markdown",
   "metadata": {},
   "source": []
  },
  {
   "cell_type": "markdown",
   "metadata": {},
   "source": [
    "**3.** Expliquer l'importance de la variable $c$."
   ]
  },
  {
   "cell_type": "markdown",
   "metadata": {},
   "source": []
  },
  {
   "cell_type": "markdown",
   "metadata": {},
   "source": [
    "**4.** Le traduire en Python ci-dessous pour vérifier vos réponse :"
   ]
  },
  {
   "cell_type": "code",
   "execution_count": null,
   "metadata": {},
   "outputs": [],
   "source": []
  },
  {
   "cell_type": "markdown",
   "metadata": {},
   "source": [
    "### Exercice 4\n",
    "On considère deux points dans un repère orthonormé du plan.\n",
    "\n",
    "Compléter le script suivant afin qu'il affiche les coordonnées du milieu $I$ d'un segment $[AB]$ et le carré de la longueur de ce segment."
   ]
  },
  {
   "cell_type": "code",
   "execution_count": null,
   "metadata": {},
   "outputs": [],
   "source": [
    "# Pour saisir les données (ne rien modifier dans cette partie)\n",
    "A = input(\"Saisir les coordonnées de A séparées d'une virgule : \").split(',')\n",
    "x_A, y_A = int(A[0]), int(A[1])\n",
    "B = input(\"Saisir les coordonnées de B séparées d'une virgule : \").split(',')\n",
    "x_B, y_B = int(B[0]), int(B[1])\n",
    "\n",
    "# Compléter la suite\n",
    "x_I, y_I = ...\n",
    "AB_carre = ...\n",
    "print(...)"
   ]
  },
  {
   "cell_type": "markdown",
   "metadata": {},
   "source": [
    "## Instructions conditionnelles\n",
    "### Définition\n",
    "> La structure `si ... alors ... sinon ... ` (qui se traduit par `if ... then ... else` en anglais) permet de définir une condition: \\textbf{si} cette condition est remplie, \\textbf{alors} on effectuera certaines instructions ; \\textbf{sinon} on effectuera d'autres instructions.\n",
    "\n",
    "La structure générale est la suivante :\n",
    "\n",
    "**Si** Condition **alors**  \n",
    " > Traitement $1$  \n",
    "\n",
    "**sinon**  \n",
    "> Traitement $2$\n",
    "\n",
    "La condition est soit \\textit{vraie} soit \\textit{fausse}, si elle est vraie le Traitement $1$ est effectué, si elle est fausse c'est le Traitement $2$ qui est effectué. L'intruction `sinon` n'est pas obligatoire.\n",
    "\n",
    "Sa traduction en Python est la suivante :"
   ]
  },
  {
   "cell_type": "code",
   "execution_count": null,
   "metadata": {},
   "outputs": [],
   "source": [
    "if Condition:\n",
    "    Traitement1\n",
    "else:\n",
    "    Traitement2"
   ]
  },
  {
   "cell_type": "markdown",
   "metadata": {},
   "source": [
    "### Exercice 5\n",
    "Pour les résultats du baccalauréat, l’ordinateur indique :\n",
    "- `admis` si l’élève a obtenu à l’écrit une moyenne supérieure ou égale à $10$ ;\n",
    "- `oral` si sa moyenne appartient à l’intervalle $[8; 10[$ ;\n",
    "- `recalé` sinon.\n",
    "\n",
    "Écrire un script Python affichant les résultats suivant la note saisie par l'utilisateur :"
   ]
  },
  {
   "cell_type": "code",
   "execution_count": null,
   "metadata": {},
   "outputs": [],
   "source": []
  },
  {
   "cell_type": "markdown",
   "metadata": {},
   "source": [
    "### Exercice 6\n",
    "La fonction $f$ est définie sur l'intervalle $[-5;6]$ par l'algorithme ci-dessous :\n",
    "\n",
    "**Saisir** $x$\n",
    "\n",
    "**Si** $x\\leq1$ **alors**\n",
    "\n",
    "> $y$ $\\leftarrow$ $-3x-7$\n",
    "\n",
    "**Sinon** **Si** $x\\geq3$\n",
    "\n",
    "> > $y$ $\\leftarrow$ $-\\dfrac13x+5$\n",
    "\n",
    "> **Sinon**\n",
    "> > $y$ $\\leftarrow$ $2x-2$\n",
    "\n",
    "**Afficher** $f(x)=y$\n",
    "\n",
    "1) Qu'affiche cette fonction pour les valeur $-4$, $-1$, $0$, $3$ et $6$.\n",
    "\n",
    "2) Écrire le script Python correspondant ci-dessous (Sinon Si se traduit par elif) :"
   ]
  },
  {
   "cell_type": "code",
   "execution_count": null,
   "metadata": {},
   "outputs": [],
   "source": [
    "\n",
    "# Pour afficher le résultat utiliser la ligne suivante \n",
    "print(f\"f({x})={y}\")"
   ]
  },
  {
   "cell_type": "markdown",
   "metadata": {},
   "source": [
    "## Les boucles\n",
    "### Définition\n",
    "> Une \\textbf{boucle bornée} est utilisée lorsque l'on veut \\textbf{répéter un certain nombre de fois} les mêmes instructions. \n",
    "\n",
    "#### Remarque \n",
    "> Une variable sera utilisée pour __compter__ le nombre de répétitions, on dit parle ainsi __d'itérations__. En général, elle prendra des valeurs entières. À chaque itération, la variable est incrémentée d'une unité (sauf indication contraire).\n",
    "\n",
    "La structure générale est la suivante :\n",
    "\n",
    "**Pour** i **allant de** 0 **jusqu'à** 9 **faire**\n",
    "> Instructions\n",
    "\n",
    "**FinPour**\n",
    "\n",
    "Dans cette boucle, les _instructions_ sont répétées 10 fois. \n",
    "\n",
    "#### Remarque\n",
    "> La variable i prendra successivement les valeurs :  0, 1, 2, 3, 4, 5, 6, 7, 8 et 9.\n",
    "\n",
    "Sa traduction en Python est la suivante :"
   ]
  },
  {
   "cell_type": "code",
   "execution_count": null,
   "metadata": {},
   "outputs": [],
   "source": [
    "for i in range(10):\n",
    "    Instructions"
   ]
  },
  {
   "cell_type": "markdown",
   "metadata": {},
   "source": [
    "### Exercice 7\n",
    "On considère l'algorithme ci-dessous :\n",
    "\n",
    "**Saisir** n  \n",
    "s $\\leftarrow$ 0  \n",
    "**Pour** i **allant de** 1 **jusqu’à** n **faire**\n",
    "> s $\\leftarrow$ s + i\n",
    "\n",
    "**FinPour**  \n",
    "**Afficher** s"
   ]
  },
  {
   "cell_type": "markdown",
   "metadata": {},
   "source": [
    "**1.** Que retourne cet algorithme pour $n=5$ ?"
   ]
  },
  {
   "cell_type": "markdown",
   "metadata": {},
   "source": []
  },
  {
   "cell_type": "markdown",
   "metadata": {},
   "source": [
    "**2.** Que fait cet algorithme ?"
   ]
  },
  {
   "cell_type": "markdown",
   "metadata": {},
   "source": []
  },
  {
   "cell_type": "markdown",
   "metadata": {},
   "source": [
    "**3.** Traduire cet algorithme en Python :"
   ]
  },
  {
   "cell_type": "code",
   "execution_count": null,
   "metadata": {},
   "outputs": [],
   "source": []
  },
  {
   "cell_type": "markdown",
   "metadata": {},
   "source": [
    "## Les fonctions\n",
    "### Information\n",
    "> Les fonctions permettent de décomposer un algorithme complexe en une série de sous-algorithmes plus simples, lesquels peuvent à leur tour être décomposés en fragments plus petits, et ainsi de suite. Une fonction **retourne** en **sortie** un ou des objet(s) et/ou exécute une tâche, pour cela on peut lui fournir un ou des **arguments**\n",
    "en **entrée**.  \n",
    "Une fonction est ensuite **appelée** dans le cœur de l’algorithme.\n",
    "\n",
    "La structure générale est la suivante :\n",
    "\n",
    "**Définition** Fonction(paramètres):  \n",
    "> Instructions  \n",
    "> Retourne objets  \n",
    "\n",
    "**FinDéfinition**  \n",
    "...  \n",
    "`# Appel de la fonction`  \n",
    "A $\\leftarrow$ Fonction(valeurs des paramètres)\n",
    "\n",
    "Sa syntaxe Python est la suivante :"
   ]
  },
  {
   "cell_type": "code",
   "execution_count": null,
   "metadata": {},
   "outputs": [],
   "source": [
    "def Fonction(paramètres):\n",
    "    Instruction\n",
    "    return objets\n",
    "\n",
    "# Appel de la fonctio\n",
    "A = Fonction(valeurs)"
   ]
  },
  {
   "cell_type": "markdown",
   "metadata": {},
   "source": [
    "### Remarques :\n",
    "- Il faut bien distinguer la définition de la fonction et son\n",
    "appel à l’intérieur de l’algorithme.\n",
    "- Lors de cet appel, l'objet retourné par la fonction est\n",
    "affecté à la variable A.\n",
    "\n",
    "### Exercice 8\n",
    "Dans la fonction définie ci-dessous, les paramètres $a$ et $b$ sont positifs et $b\\neq$0 :\n",
    "\n",
    "**Définition** mystère($a$,$b$):  \n",
    "> $r$ $\\leftarrow$ $a$  \n",
    "> $q$ $\\leftarrow$ $0$  \n",
    "> **Tant que** $r\\geqslant b$ **faire**  \n",
    "> > $r \\leftarrow r-b$  \n",
    "> > $q \\leftarrow q+1$  \n",
    "> \n",
    "> **FinTantque**  \n",
    "> Retourne $r$  \n",
    "\n",
    "**FinDéfinition**\n",
    "\n",
    "#### Remarque\n",
    "> Lorsque l'instruction **Retourne** est rencontrée, on sort de la fonction\n",
    "\n",
    "**1.** Tester la fonction avec les paramètres 15 et 5, puis, avec 17 et 6."
   ]
  },
  {
   "cell_type": "markdown",
   "metadata": {},
   "source": []
  },
  {
   "cell_type": "markdown",
   "metadata": {},
   "source": [
    "**2.** Expliquer pourquoi la boucle se termine toujours."
   ]
  },
  {
   "cell_type": "markdown",
   "metadata": {},
   "source": []
  },
  {
   "cell_type": "markdown",
   "metadata": {},
   "source": [
    "**3.** Montrer qu’avant le début de la boucle ainsi qu’à la fin de chaque itération de la boucle, on a toujours $a = bq + r$."
   ]
  },
  {
   "cell_type": "markdown",
   "metadata": {},
   "source": []
  },
  {
   "cell_type": "markdown",
   "metadata": {},
   "source": [
    "**4.** Vérifier que la valeur retournée est toujours strictement inférieur à $b$. Finalement, que fait cette fonction ?"
   ]
  },
  {
   "cell_type": "markdown",
   "metadata": {},
   "source": []
  },
  {
   "cell_type": "markdown",
   "metadata": {},
   "source": [
    "**5.** Traduire cette fonction en Python."
   ]
  },
  {
   "cell_type": "code",
   "execution_count": null,
   "metadata": {},
   "outputs": [],
   "source": []
  },
  {
   "cell_type": "markdown",
   "metadata": {},
   "source": [
    "**6.** Vérifier vos résultats de la question **1.** en appelant cette fonction avec les valeurs correspondantes :"
   ]
  },
  {
   "cell_type": "code",
   "execution_count": null,
   "metadata": {},
   "outputs": [],
   "source": []
  },
  {
   "cell_type": "code",
   "execution_count": null,
   "metadata": {},
   "outputs": [],
   "source": []
  },
  {
   "cell_type": "markdown",
   "metadata": {},
   "source": [
    "### Définition\n",
    "> On appelle nombre premier, un nombre entier naturel ayant exactement deux diviseurs entiers naturels : 1 et lui-même."
   ]
  },
  {
   "cell_type": "markdown",
   "metadata": {},
   "source": [
    "**7.** Écrire une fonction `premier` qui retourne `True` si le nombre est premier et `False` sinon. "
   ]
  },
  {
   "cell_type": "code",
   "execution_count": null,
   "metadata": {},
   "outputs": [],
   "source": []
  }
 ],
 "metadata": {
  "celltoolbar": "Format de la Cellule Texte Brut",
  "kernelspec": {
   "display_name": "Python 3",
   "language": "python",
   "name": "python3"
  },
  "language_info": {
   "codemirror_mode": {
    "name": "ipython",
    "version": 3
   },
   "file_extension": ".py",
   "mimetype": "text/x-python",
   "name": "python",
   "nbconvert_exporter": "python",
   "pygments_lexer": "ipython3",
   "version": "3.7.3"
  },
  "latex_envs": {
   "LaTeX_envs_menu_present": true,
   "autoclose": false,
   "autocomplete": true,
   "bibliofile": "biblio.bib",
   "cite_by": "apalike",
   "current_citInitial": 1,
   "eqLabelWithNumbers": true,
   "eqNumInitial": 1,
   "hotkeys": {
    "equation": "Ctrl-E",
    "itemize": "Ctrl-I"
   },
   "labels_anchors": false,
   "latex_user_defs": false,
   "report_style_numbering": false,
   "user_envs_cfg": false
  }
 },
 "nbformat": 4,
 "nbformat_minor": 2
}
